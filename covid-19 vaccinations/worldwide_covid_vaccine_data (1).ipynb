{
  "nbformat": 4,
  "nbformat_minor": 0,
  "metadata": {
    "colab": {
      "name": "worldwide covid vaccine data.ipynb",
      "provenance": []
    },
    "kernelspec": {
      "name": "python3",
      "display_name": "Python 3"
    },
    "language_info": {
      "name": "python"
    }
  },
  "cells": [
    {
      "cell_type": "markdown",
      "metadata": {
        "id": "NcgM-4mFQa_K"
      },
      "source": [
        "data released on : **2021.6.30** - **1400.4.9** \n"
      ]
    },
    {
      "cell_type": "code",
      "metadata": {
        "id": "_IHJsyKORt71"
      },
      "source": [
        "import numpy as np\n",
        "import pandas as pd\n",
        "import matplotlib.pyplot as plt\n",
        "import seaborn as sns"
      ],
      "execution_count": 3,
      "outputs": []
    },
    {
      "cell_type": "code",
      "metadata": {
        "colab": {
          "base_uri": "https://localhost:8080/",
          "height": 454
        },
        "id": "rAU0Rt8ESD0d",
        "outputId": "e0ba9842-6ef2-4a6c-9b5b-8d0f1625c1e2"
      },
      "source": [
        "data  = pd.read_csv(\"/content/Worldwide Vaccine Data.csv\" , index_col=0)\n",
        "data"
      ],
      "execution_count": 4,
      "outputs": [
        {
          "output_type": "execute_result",
          "data": {
            "text/html": [
              "<div>\n",
              "<style scoped>\n",
              "    .dataframe tbody tr th:only-of-type {\n",
              "        vertical-align: middle;\n",
              "    }\n",
              "\n",
              "    .dataframe tbody tr th {\n",
              "        vertical-align: top;\n",
              "    }\n",
              "\n",
              "    .dataframe thead th {\n",
              "        text-align: right;\n",
              "    }\n",
              "</style>\n",
              "<table border=\"1\" class=\"dataframe\">\n",
              "  <thead>\n",
              "    <tr style=\"text-align: right;\">\n",
              "      <th></th>\n",
              "      <th>Doses administered per 100 people</th>\n",
              "      <th>Total doses administered</th>\n",
              "      <th>% of population vaccinated</th>\n",
              "      <th>% of population fully vaccinated</th>\n",
              "    </tr>\n",
              "    <tr>\n",
              "      <th>Country</th>\n",
              "      <th></th>\n",
              "      <th></th>\n",
              "      <th></th>\n",
              "      <th></th>\n",
              "    </tr>\n",
              "  </thead>\n",
              "  <tbody>\n",
              "    <tr>\n",
              "      <th>U.A.E.</th>\n",
              "      <td>156.0</td>\n",
              "      <td>15198661.0</td>\n",
              "      <td>NaN</td>\n",
              "      <td>NaN</td>\n",
              "    </tr>\n",
              "    <tr>\n",
              "      <th>Malta</th>\n",
              "      <td>131.0</td>\n",
              "      <td>659488.0</td>\n",
              "      <td>71.0</td>\n",
              "      <td>63.0</td>\n",
              "    </tr>\n",
              "    <tr>\n",
              "      <th>Bahrain</th>\n",
              "      <td>129.0</td>\n",
              "      <td>2116497.0</td>\n",
              "      <td>64.0</td>\n",
              "      <td>60.0</td>\n",
              "    </tr>\n",
              "    <tr>\n",
              "      <th>Aruba</th>\n",
              "      <td>119.0</td>\n",
              "      <td>126387.0</td>\n",
              "      <td>64.0</td>\n",
              "      <td>55.0</td>\n",
              "    </tr>\n",
              "    <tr>\n",
              "      <th>Israel</th>\n",
              "      <td>119.0</td>\n",
              "      <td>10749083.0</td>\n",
              "      <td>62.0</td>\n",
              "      <td>57.0</td>\n",
              "    </tr>\n",
              "    <tr>\n",
              "      <th>...</th>\n",
              "      <td>...</td>\n",
              "      <td>...</td>\n",
              "      <td>...</td>\n",
              "      <td>...</td>\n",
              "    </tr>\n",
              "    <tr>\n",
              "      <th>South Sudan</th>\n",
              "      <td>0.4</td>\n",
              "      <td>44920.0</td>\n",
              "      <td>0.4</td>\n",
              "      <td>0.0</td>\n",
              "    </tr>\n",
              "    <tr>\n",
              "      <th>Benin</th>\n",
              "      <td>0.4</td>\n",
              "      <td>46108.0</td>\n",
              "      <td>0.3</td>\n",
              "      <td>0.1</td>\n",
              "    </tr>\n",
              "    <tr>\n",
              "      <th>Burkina Faso</th>\n",
              "      <td>0.1</td>\n",
              "      <td>25833.0</td>\n",
              "      <td>0.1</td>\n",
              "      <td>NaN</td>\n",
              "    </tr>\n",
              "    <tr>\n",
              "      <th>Congo</th>\n",
              "      <td>0.1</td>\n",
              "      <td>59443.0</td>\n",
              "      <td>0.1</td>\n",
              "      <td>0.0</td>\n",
              "    </tr>\n",
              "    <tr>\n",
              "      <th>Chad</th>\n",
              "      <td>0.1</td>\n",
              "      <td>8981.0</td>\n",
              "      <td>0.1</td>\n",
              "      <td>NaN</td>\n",
              "    </tr>\n",
              "  </tbody>\n",
              "</table>\n",
              "<p>182 rows × 4 columns</p>\n",
              "</div>"
            ],
            "text/plain": [
              "              Doses administered per 100 people  ...  % of population fully vaccinated\n",
              "Country                                          ...                                  \n",
              "U.A.E.                                    156.0  ...                               NaN\n",
              "Malta                                     131.0  ...                              63.0\n",
              "Bahrain                                   129.0  ...                              60.0\n",
              "Aruba                                     119.0  ...                              55.0\n",
              "Israel                                    119.0  ...                              57.0\n",
              "...                                         ...  ...                               ...\n",
              "South Sudan                                 0.4  ...                               0.0\n",
              "Benin                                       0.4  ...                               0.1\n",
              "Burkina Faso                                0.1  ...                               NaN\n",
              "Congo                                       0.1  ...                               0.0\n",
              "Chad                                        0.1  ...                               NaN\n",
              "\n",
              "[182 rows x 4 columns]"
            ]
          },
          "metadata": {
            "tags": []
          },
          "execution_count": 4
        }
      ]
    },
    {
      "cell_type": "code",
      "metadata": {
        "colab": {
          "base_uri": "https://localhost:8080/"
        },
        "id": "MrLrmddhSn3_",
        "outputId": "361d8736-45c7-4dd3-da6b-2afba8f7bdbb"
      },
      "source": [
        "for i in range(len(data.columns)):\n",
        "  print(data.columns[i])"
      ],
      "execution_count": 5,
      "outputs": [
        {
          "output_type": "stream",
          "text": [
            "Doses administered per 100 people\n",
            "Total doses administered\n",
            "% of population vaccinated\n",
            "% of population fully vaccinated\n"
          ],
          "name": "stdout"
        }
      ]
    },
    {
      "cell_type": "code",
      "metadata": {
        "colab": {
          "base_uri": "https://localhost:8080/"
        },
        "id": "J74E9NycS2Ft",
        "outputId": "4cac2875-2cd7-47f1-f28c-57cf5cf973f4"
      },
      "source": [
        "for loc in data.index :\n",
        "  print(loc)"
      ],
      "execution_count": 6,
      "outputs": [
        {
          "output_type": "stream",
          "text": [
            "U.A.E.\n",
            "Malta\n",
            "Bahrain\n",
            "Aruba\n",
            "Israel\n",
            "Chile\n",
            "U.K.\n",
            "Mongolia\n",
            "Uruguay\n",
            "Qatar\n",
            "Iceland\n",
            "Curaçao\n",
            "Hungary\n",
            "United States\n",
            "Canada\n",
            "Maldives\n",
            "Singapore\n",
            "Belgium\n",
            "Netherlands\n",
            "Germany\n",
            "Mainland China\n",
            "Luxembourg\n",
            "Spain\n",
            "Austria\n",
            "Italy\n",
            "Switzerland\n",
            "Portugal\n",
            "Lithuania\n",
            "France\n",
            "Greece\n",
            "Finland\n",
            "Czech Republic\n",
            "Poland\n",
            "Norway\n",
            "Sweden\n",
            "Ireland\n",
            "Serbia\n",
            "Kuwait\n",
            "Estonia\n",
            "Dominican Rep.\n",
            "Slovenia\n",
            "Slovakia\n",
            "Cyprus\n",
            "Bhutan\n",
            "Croatia\n",
            "Turkey\n",
            "Latvia\n",
            "Barbados\n",
            "Mauritius\n",
            "Denmark\n",
            "Macau\n",
            "Morocco\n",
            "Saudi Arabia\n",
            "Cuba\n",
            "Hong Kong\n",
            "Costa Rica\n",
            "French Polynesia\n",
            "Brazil\n",
            "Montenegro\n",
            "Romania\n",
            "Argentina\n",
            "Cambodia\n",
            "Guyana\n",
            "El Salvador\n",
            "New Caledonia\n",
            "South Korea\n",
            "Fiji\n",
            "Panama\n",
            "Jordan\n",
            "Colombia\n",
            "Mexico\n",
            "Japan\n",
            "Azerbaijan\n",
            "Suriname\n",
            "Albania\n",
            "Australia\n",
            "Saint Lucia\n",
            "Tonga\n",
            "Grenada\n",
            "Kazakhstan\n",
            "Samoa\n",
            "Russia\n",
            "Belize\n",
            "Moldova\n",
            "North Macedonia\n",
            "Bulgaria\n",
            "Malaysia\n",
            "India\n",
            "Ecuador\n",
            "New Zealand\n",
            "Saint Vincent and the Grenadines\n",
            "Peru\n",
            "Oman\n",
            "Bolivia\n",
            "Trinidad and Tobago\n",
            "Bahamas\n",
            "Laos\n",
            "Equatorial Guinea\n",
            "Lebanon\n",
            "West Bank & Gaza\n",
            "Brunei\n",
            "Sri Lanka\n",
            "Indonesia\n",
            "Tunisia\n",
            "Cape Verde\n",
            "Timor-Leste\n",
            "Bosnia and Herzegovina\n",
            "Thailand\n",
            "São Tomé and Príncipe\n",
            "Nepal\n",
            "Belarus\n",
            "Comoros\n",
            "Georgia\n",
            "Botswana\n",
            "Philippines\n",
            "Zimbabwe\n",
            "Paraguay\n",
            "Jamaica\n",
            "Taiwan\n",
            "Uzbekistan\n",
            "Honduras\n",
            "Pakistan\n",
            "Bangladesh\n",
            "Iran\n",
            "Ukraine\n",
            "Algeria\n",
            "Namibia\n",
            "Guatemala\n",
            "Myanmar\n",
            "Libya\n",
            "Venezuela\n",
            "South Africa\n",
            "Angola\n",
            "Rwanda\n",
            "Togo\n",
            "Egypt\n",
            "Guinea\n",
            "Eswatini\n",
            "Senegal\n",
            "Ghana\n",
            "Vietnam\n",
            "Solomon Islands\n",
            "Mauritania\n",
            "Ivory Coast\n",
            "Djibouti\n",
            "Kyrgyzstan\n",
            "Nicaragua\n",
            "Kenya\n",
            "Vanuatu\n",
            "Malawi\n",
            "Gabon\n",
            "Afghanistan\n",
            "Armenia\n",
            "Iraq\n",
            "Uganda\n",
            "Republic of the Congo\n",
            "Ethiopia\n",
            "Gambia\n",
            "Lesotho\n",
            "Nigeria\n",
            "Liberia\n",
            "Central African Republic\n",
            "Sudan\n",
            "Mozambique\n",
            "Tajikistan\n",
            "Somalia\n",
            "Sierra Leone\n",
            "Guinea-Bissau\n",
            "Niger\n",
            "Yemen\n",
            "Mali\n",
            "Zambia\n",
            "Madagascar\n",
            "Turkmenistan\n",
            "Syria\n",
            "Papua New Guinea\n",
            "Cameroon\n",
            "South Sudan\n",
            "Benin\n",
            "Burkina Faso\n",
            "Congo\n",
            "Chad\n"
          ],
          "name": "stdout"
        }
      ]
    },
    {
      "cell_type": "code",
      "metadata": {
        "colab": {
          "base_uri": "https://localhost:8080/"
        },
        "id": "5mfxcJLg8uZr",
        "outputId": "6e48b1fa-7954-4534-bfb7-95e82595fc1e"
      },
      "source": [
        "data.index.nunique()"
      ],
      "execution_count": 7,
      "outputs": [
        {
          "output_type": "execute_result",
          "data": {
            "text/plain": [
              "182"
            ]
          },
          "metadata": {
            "tags": []
          },
          "execution_count": 7
        }
      ]
    },
    {
      "cell_type": "code",
      "metadata": {
        "colab": {
          "base_uri": "https://localhost:8080/"
        },
        "id": "yLKPaBDFS4hk",
        "outputId": "c4a780e4-d90a-4ac2-c009-9f150c6a8796"
      },
      "source": [
        "data.info()"
      ],
      "execution_count": 8,
      "outputs": [
        {
          "output_type": "stream",
          "text": [
            "<class 'pandas.core.frame.DataFrame'>\n",
            "Index: 182 entries, U.A.E. to Chad\n",
            "Data columns (total 4 columns):\n",
            " #   Column                             Non-Null Count  Dtype  \n",
            "---  ------                             --------------  -----  \n",
            " 0   Doses administered per 100 people  177 non-null    float64\n",
            " 1   Total doses administered           177 non-null    float64\n",
            " 2   % of population vaccinated         175 non-null    float64\n",
            " 3   % of population fully vaccinated   160 non-null    float64\n",
            "dtypes: float64(4)\n",
            "memory usage: 7.1+ KB\n"
          ],
          "name": "stdout"
        }
      ]
    },
    {
      "cell_type": "code",
      "metadata": {
        "colab": {
          "base_uri": "https://localhost:8080/",
          "height": 175
        },
        "id": "j1kBVLewTFAF",
        "outputId": "29acc5df-3620-4879-b976-062762f56ae0"
      },
      "source": [
        "data.describe().T"
      ],
      "execution_count": 9,
      "outputs": [
        {
          "output_type": "execute_result",
          "data": {
            "text/html": [
              "<div>\n",
              "<style scoped>\n",
              "    .dataframe tbody tr th:only-of-type {\n",
              "        vertical-align: middle;\n",
              "    }\n",
              "\n",
              "    .dataframe tbody tr th {\n",
              "        vertical-align: top;\n",
              "    }\n",
              "\n",
              "    .dataframe thead th {\n",
              "        text-align: right;\n",
              "    }\n",
              "</style>\n",
              "<table border=\"1\" class=\"dataframe\">\n",
              "  <thead>\n",
              "    <tr style=\"text-align: right;\">\n",
              "      <th></th>\n",
              "      <th>count</th>\n",
              "      <th>mean</th>\n",
              "      <th>std</th>\n",
              "      <th>min</th>\n",
              "      <th>25%</th>\n",
              "      <th>50%</th>\n",
              "      <th>75%</th>\n",
              "      <th>max</th>\n",
              "    </tr>\n",
              "  </thead>\n",
              "  <tbody>\n",
              "    <tr>\n",
              "      <th>Doses administered per 100 people</th>\n",
              "      <td>177.0</td>\n",
              "      <td>3.610113e+01</td>\n",
              "      <td>3.693470e+01</td>\n",
              "      <td>0.1</td>\n",
              "      <td>4.3</td>\n",
              "      <td>23.0</td>\n",
              "      <td>63.0</td>\n",
              "      <td>1.560000e+02</td>\n",
              "    </tr>\n",
              "    <tr>\n",
              "      <th>Total doses administered</th>\n",
              "      <td>177.0</td>\n",
              "      <td>1.715095e+07</td>\n",
              "      <td>9.851431e+07</td>\n",
              "      <td>7462.0</td>\n",
              "      <td>197001.0</td>\n",
              "      <td>1149608.0</td>\n",
              "      <td>5365803.0</td>\n",
              "      <td>1.225734e+09</td>\n",
              "    </tr>\n",
              "    <tr>\n",
              "      <th>% of population vaccinated</th>\n",
              "      <td>175.0</td>\n",
              "      <td>2.242971e+01</td>\n",
              "      <td>2.143892e+01</td>\n",
              "      <td>0.1</td>\n",
              "      <td>3.3</td>\n",
              "      <td>15.0</td>\n",
              "      <td>38.0</td>\n",
              "      <td>7.200000e+01</td>\n",
              "    </tr>\n",
              "    <tr>\n",
              "      <th>% of population fully vaccinated</th>\n",
              "      <td>160.0</td>\n",
              "      <td>1.452000e+01</td>\n",
              "      <td>1.617984e+01</td>\n",
              "      <td>0.0</td>\n",
              "      <td>1.2</td>\n",
              "      <td>7.6</td>\n",
              "      <td>26.0</td>\n",
              "      <td>6.300000e+01</td>\n",
              "    </tr>\n",
              "  </tbody>\n",
              "</table>\n",
              "</div>"
            ],
            "text/plain": [
              "                                   count          mean  ...        75%           max\n",
              "Doses administered per 100 people  177.0  3.610113e+01  ...       63.0  1.560000e+02\n",
              "Total doses administered           177.0  1.715095e+07  ...  5365803.0  1.225734e+09\n",
              "% of population vaccinated         175.0  2.242971e+01  ...       38.0  7.200000e+01\n",
              "% of population fully vaccinated   160.0  1.452000e+01  ...       26.0  6.300000e+01\n",
              "\n",
              "[4 rows x 8 columns]"
            ]
          },
          "metadata": {
            "tags": []
          },
          "execution_count": 9
        }
      ]
    },
    {
      "cell_type": "code",
      "metadata": {
        "colab": {
          "base_uri": "https://localhost:8080/"
        },
        "id": "fU0BVVjZTVgd",
        "outputId": "fb42b03b-5852-4289-88f5-afe961b2d5d8"
      },
      "source": [
        "data.isna().sum()"
      ],
      "execution_count": 10,
      "outputs": [
        {
          "output_type": "execute_result",
          "data": {
            "text/plain": [
              "Doses administered per 100 people     5\n",
              "Total doses administered              5\n",
              "% of population vaccinated            7\n",
              "% of population fully vaccinated     22\n",
              "dtype: int64"
            ]
          },
          "metadata": {
            "tags": []
          },
          "execution_count": 10
        }
      ]
    },
    {
      "cell_type": "code",
      "metadata": {
        "colab": {
          "base_uri": "https://localhost:8080/"
        },
        "id": "NAHLLEAATcB_",
        "outputId": "e30c5f20-8332-4df1-f7ff-923ec1b82d09"
      },
      "source": [
        "data.isna().sum().sum()"
      ],
      "execution_count": 11,
      "outputs": [
        {
          "output_type": "execute_result",
          "data": {
            "text/plain": [
              "39"
            ]
          },
          "metadata": {
            "tags": []
          },
          "execution_count": 11
        }
      ]
    },
    {
      "cell_type": "code",
      "metadata": {
        "colab": {
          "base_uri": "https://localhost:8080/",
          "height": 1000
        },
        "id": "brac_nEcUmaE",
        "outputId": "21909af4-27d4-4322-f19e-abc894075df5"
      },
      "source": [
        "nan_df = data[data.isna().values == True]\n",
        "nan_df"
      ],
      "execution_count": 12,
      "outputs": [
        {
          "output_type": "execute_result",
          "data": {
            "text/html": [
              "<div>\n",
              "<style scoped>\n",
              "    .dataframe tbody tr th:only-of-type {\n",
              "        vertical-align: middle;\n",
              "    }\n",
              "\n",
              "    .dataframe tbody tr th {\n",
              "        vertical-align: top;\n",
              "    }\n",
              "\n",
              "    .dataframe thead th {\n",
              "        text-align: right;\n",
              "    }\n",
              "</style>\n",
              "<table border=\"1\" class=\"dataframe\">\n",
              "  <thead>\n",
              "    <tr style=\"text-align: right;\">\n",
              "      <th></th>\n",
              "      <th>Doses administered per 100 people</th>\n",
              "      <th>Total doses administered</th>\n",
              "      <th>% of population vaccinated</th>\n",
              "      <th>% of population fully vaccinated</th>\n",
              "    </tr>\n",
              "    <tr>\n",
              "      <th>Country</th>\n",
              "      <th></th>\n",
              "      <th></th>\n",
              "      <th></th>\n",
              "      <th></th>\n",
              "    </tr>\n",
              "  </thead>\n",
              "  <tbody>\n",
              "    <tr>\n",
              "      <th>U.A.E.</th>\n",
              "      <td>156.0</td>\n",
              "      <td>15198661.0</td>\n",
              "      <td>NaN</td>\n",
              "      <td>NaN</td>\n",
              "    </tr>\n",
              "    <tr>\n",
              "      <th>U.A.E.</th>\n",
              "      <td>156.0</td>\n",
              "      <td>15198661.0</td>\n",
              "      <td>NaN</td>\n",
              "      <td>NaN</td>\n",
              "    </tr>\n",
              "    <tr>\n",
              "      <th>Kuwait</th>\n",
              "      <td>74.0</td>\n",
              "      <td>3100000.0</td>\n",
              "      <td>68.0</td>\n",
              "      <td>NaN</td>\n",
              "    </tr>\n",
              "    <tr>\n",
              "      <th>Bhutan</th>\n",
              "      <td>64.0</td>\n",
              "      <td>484751.0</td>\n",
              "      <td>64.0</td>\n",
              "      <td>NaN</td>\n",
              "    </tr>\n",
              "    <tr>\n",
              "      <th>Denmark</th>\n",
              "      <td>NaN</td>\n",
              "      <td>NaN</td>\n",
              "      <td>56.0</td>\n",
              "      <td>32.0</td>\n",
              "    </tr>\n",
              "    <tr>\n",
              "      <th>Denmark</th>\n",
              "      <td>NaN</td>\n",
              "      <td>NaN</td>\n",
              "      <td>56.0</td>\n",
              "      <td>32.0</td>\n",
              "    </tr>\n",
              "    <tr>\n",
              "      <th>Saudi Arabia</th>\n",
              "      <td>52.0</td>\n",
              "      <td>17671943.0</td>\n",
              "      <td>NaN</td>\n",
              "      <td>NaN</td>\n",
              "    </tr>\n",
              "    <tr>\n",
              "      <th>Saudi Arabia</th>\n",
              "      <td>52.0</td>\n",
              "      <td>17671943.0</td>\n",
              "      <td>NaN</td>\n",
              "      <td>NaN</td>\n",
              "    </tr>\n",
              "    <tr>\n",
              "      <th>Saint Vincent and the Grenadines</th>\n",
              "      <td>22.0</td>\n",
              "      <td>24667.0</td>\n",
              "      <td>NaN</td>\n",
              "      <td>NaN</td>\n",
              "    </tr>\n",
              "    <tr>\n",
              "      <th>Saint Vincent and the Grenadines</th>\n",
              "      <td>22.0</td>\n",
              "      <td>24667.0</td>\n",
              "      <td>NaN</td>\n",
              "      <td>NaN</td>\n",
              "    </tr>\n",
              "    <tr>\n",
              "      <th>Algeria</th>\n",
              "      <td>5.8</td>\n",
              "      <td>2500000.0</td>\n",
              "      <td>5.8</td>\n",
              "      <td>NaN</td>\n",
              "    </tr>\n",
              "    <tr>\n",
              "      <th>Myanmar</th>\n",
              "      <td>NaN</td>\n",
              "      <td>NaN</td>\n",
              "      <td>NaN</td>\n",
              "      <td>NaN</td>\n",
              "    </tr>\n",
              "    <tr>\n",
              "      <th>Myanmar</th>\n",
              "      <td>NaN</td>\n",
              "      <td>NaN</td>\n",
              "      <td>NaN</td>\n",
              "      <td>NaN</td>\n",
              "    </tr>\n",
              "    <tr>\n",
              "      <th>Myanmar</th>\n",
              "      <td>NaN</td>\n",
              "      <td>NaN</td>\n",
              "      <td>NaN</td>\n",
              "      <td>NaN</td>\n",
              "    </tr>\n",
              "    <tr>\n",
              "      <th>Myanmar</th>\n",
              "      <td>NaN</td>\n",
              "      <td>NaN</td>\n",
              "      <td>NaN</td>\n",
              "      <td>NaN</td>\n",
              "    </tr>\n",
              "    <tr>\n",
              "      <th>Libya</th>\n",
              "      <td>5.5</td>\n",
              "      <td>370066.0</td>\n",
              "      <td>5.5</td>\n",
              "      <td>NaN</td>\n",
              "    </tr>\n",
              "    <tr>\n",
              "      <th>Ivory Coast</th>\n",
              "      <td>2.9</td>\n",
              "      <td>749368.0</td>\n",
              "      <td>2.9</td>\n",
              "      <td>NaN</td>\n",
              "    </tr>\n",
              "    <tr>\n",
              "      <th>Nicaragua</th>\n",
              "      <td>NaN</td>\n",
              "      <td>NaN</td>\n",
              "      <td>NaN</td>\n",
              "      <td>NaN</td>\n",
              "    </tr>\n",
              "    <tr>\n",
              "      <th>Nicaragua</th>\n",
              "      <td>NaN</td>\n",
              "      <td>NaN</td>\n",
              "      <td>NaN</td>\n",
              "      <td>NaN</td>\n",
              "    </tr>\n",
              "    <tr>\n",
              "      <th>Nicaragua</th>\n",
              "      <td>NaN</td>\n",
              "      <td>NaN</td>\n",
              "      <td>NaN</td>\n",
              "      <td>NaN</td>\n",
              "    </tr>\n",
              "    <tr>\n",
              "      <th>Nicaragua</th>\n",
              "      <td>NaN</td>\n",
              "      <td>NaN</td>\n",
              "      <td>NaN</td>\n",
              "      <td>NaN</td>\n",
              "    </tr>\n",
              "    <tr>\n",
              "      <th>Vanuatu</th>\n",
              "      <td>2.5</td>\n",
              "      <td>7462.0</td>\n",
              "      <td>2.5</td>\n",
              "      <td>NaN</td>\n",
              "    </tr>\n",
              "    <tr>\n",
              "      <th>Uganda</th>\n",
              "      <td>1.9</td>\n",
              "      <td>854443.0</td>\n",
              "      <td>1.9</td>\n",
              "      <td>NaN</td>\n",
              "    </tr>\n",
              "    <tr>\n",
              "      <th>Republic of the Congo</th>\n",
              "      <td>1.9</td>\n",
              "      <td>102642.0</td>\n",
              "      <td>1.9</td>\n",
              "      <td>NaN</td>\n",
              "    </tr>\n",
              "    <tr>\n",
              "      <th>Ethiopia</th>\n",
              "      <td>1.8</td>\n",
              "      <td>1989297.0</td>\n",
              "      <td>1.7</td>\n",
              "      <td>NaN</td>\n",
              "    </tr>\n",
              "    <tr>\n",
              "      <th>Lesotho</th>\n",
              "      <td>NaN</td>\n",
              "      <td>NaN</td>\n",
              "      <td>NaN</td>\n",
              "      <td>NaN</td>\n",
              "    </tr>\n",
              "    <tr>\n",
              "      <th>Lesotho</th>\n",
              "      <td>NaN</td>\n",
              "      <td>NaN</td>\n",
              "      <td>NaN</td>\n",
              "      <td>NaN</td>\n",
              "    </tr>\n",
              "    <tr>\n",
              "      <th>Lesotho</th>\n",
              "      <td>NaN</td>\n",
              "      <td>NaN</td>\n",
              "      <td>NaN</td>\n",
              "      <td>NaN</td>\n",
              "    </tr>\n",
              "    <tr>\n",
              "      <th>Lesotho</th>\n",
              "      <td>NaN</td>\n",
              "      <td>NaN</td>\n",
              "      <td>NaN</td>\n",
              "      <td>NaN</td>\n",
              "    </tr>\n",
              "    <tr>\n",
              "      <th>Central African Republic</th>\n",
              "      <td>1.6</td>\n",
              "      <td>78137.0</td>\n",
              "      <td>1.6</td>\n",
              "      <td>NaN</td>\n",
              "    </tr>\n",
              "    <tr>\n",
              "      <th>Yemen</th>\n",
              "      <td>0.9</td>\n",
              "      <td>268753.0</td>\n",
              "      <td>0.9</td>\n",
              "      <td>NaN</td>\n",
              "    </tr>\n",
              "    <tr>\n",
              "      <th>Madagascar</th>\n",
              "      <td>0.7</td>\n",
              "      <td>197001.0</td>\n",
              "      <td>0.7</td>\n",
              "      <td>NaN</td>\n",
              "    </tr>\n",
              "    <tr>\n",
              "      <th>Turkmenistan</th>\n",
              "      <td>NaN</td>\n",
              "      <td>NaN</td>\n",
              "      <td>NaN</td>\n",
              "      <td>NaN</td>\n",
              "    </tr>\n",
              "    <tr>\n",
              "      <th>Turkmenistan</th>\n",
              "      <td>NaN</td>\n",
              "      <td>NaN</td>\n",
              "      <td>NaN</td>\n",
              "      <td>NaN</td>\n",
              "    </tr>\n",
              "    <tr>\n",
              "      <th>Turkmenistan</th>\n",
              "      <td>NaN</td>\n",
              "      <td>NaN</td>\n",
              "      <td>NaN</td>\n",
              "      <td>NaN</td>\n",
              "    </tr>\n",
              "    <tr>\n",
              "      <th>Turkmenistan</th>\n",
              "      <td>NaN</td>\n",
              "      <td>NaN</td>\n",
              "      <td>NaN</td>\n",
              "      <td>NaN</td>\n",
              "    </tr>\n",
              "    <tr>\n",
              "      <th>Papua New Guinea</th>\n",
              "      <td>0.5</td>\n",
              "      <td>44327.0</td>\n",
              "      <td>0.5</td>\n",
              "      <td>NaN</td>\n",
              "    </tr>\n",
              "    <tr>\n",
              "      <th>Burkina Faso</th>\n",
              "      <td>0.1</td>\n",
              "      <td>25833.0</td>\n",
              "      <td>0.1</td>\n",
              "      <td>NaN</td>\n",
              "    </tr>\n",
              "    <tr>\n",
              "      <th>Chad</th>\n",
              "      <td>0.1</td>\n",
              "      <td>8981.0</td>\n",
              "      <td>0.1</td>\n",
              "      <td>NaN</td>\n",
              "    </tr>\n",
              "  </tbody>\n",
              "</table>\n",
              "</div>"
            ],
            "text/plain": [
              "                                  Doses administered per 100 people  ...  % of population fully vaccinated\n",
              "Country                                                              ...                                  \n",
              "U.A.E.                                                        156.0  ...                               NaN\n",
              "U.A.E.                                                        156.0  ...                               NaN\n",
              "Kuwait                                                         74.0  ...                               NaN\n",
              "Bhutan                                                         64.0  ...                               NaN\n",
              "Denmark                                                         NaN  ...                              32.0\n",
              "Denmark                                                         NaN  ...                              32.0\n",
              "Saudi Arabia                                                   52.0  ...                               NaN\n",
              "Saudi Arabia                                                   52.0  ...                               NaN\n",
              "Saint Vincent and the Grenadines                               22.0  ...                               NaN\n",
              "Saint Vincent and the Grenadines                               22.0  ...                               NaN\n",
              "Algeria                                                         5.8  ...                               NaN\n",
              "Myanmar                                                         NaN  ...                               NaN\n",
              "Myanmar                                                         NaN  ...                               NaN\n",
              "Myanmar                                                         NaN  ...                               NaN\n",
              "Myanmar                                                         NaN  ...                               NaN\n",
              "Libya                                                           5.5  ...                               NaN\n",
              "Ivory Coast                                                     2.9  ...                               NaN\n",
              "Nicaragua                                                       NaN  ...                               NaN\n",
              "Nicaragua                                                       NaN  ...                               NaN\n",
              "Nicaragua                                                       NaN  ...                               NaN\n",
              "Nicaragua                                                       NaN  ...                               NaN\n",
              "Vanuatu                                                         2.5  ...                               NaN\n",
              "Uganda                                                          1.9  ...                               NaN\n",
              "Republic of the Congo                                           1.9  ...                               NaN\n",
              "Ethiopia                                                        1.8  ...                               NaN\n",
              "Lesotho                                                         NaN  ...                               NaN\n",
              "Lesotho                                                         NaN  ...                               NaN\n",
              "Lesotho                                                         NaN  ...                               NaN\n",
              "Lesotho                                                         NaN  ...                               NaN\n",
              "Central African Republic                                        1.6  ...                               NaN\n",
              "Yemen                                                           0.9  ...                               NaN\n",
              "Madagascar                                                      0.7  ...                               NaN\n",
              "Turkmenistan                                                    NaN  ...                               NaN\n",
              "Turkmenistan                                                    NaN  ...                               NaN\n",
              "Turkmenistan                                                    NaN  ...                               NaN\n",
              "Turkmenistan                                                    NaN  ...                               NaN\n",
              "Papua New Guinea                                                0.5  ...                               NaN\n",
              "Burkina Faso                                                    0.1  ...                               NaN\n",
              "Chad                                                            0.1  ...                               NaN\n",
              "\n",
              "[39 rows x 4 columns]"
            ]
          },
          "metadata": {
            "tags": []
          },
          "execution_count": 12
        }
      ]
    },
    {
      "cell_type": "code",
      "metadata": {
        "colab": {
          "base_uri": "https://localhost:8080/"
        },
        "id": "Ws3E6PYuWO1s",
        "outputId": "545232eb-5be0-41d1-ce77-ecbc602507a1"
      },
      "source": [
        "data.dropna(axis=0 , thresh=3,inplace=True)\n",
        "data.isna().sum()"
      ],
      "execution_count": 13,
      "outputs": [
        {
          "output_type": "execute_result",
          "data": {
            "text/plain": [
              "Doses administered per 100 people     0\n",
              "Total doses administered              0\n",
              "% of population vaccinated            0\n",
              "% of population fully vaccinated     15\n",
              "dtype: int64"
            ]
          },
          "metadata": {
            "tags": []
          },
          "execution_count": 13
        }
      ]
    },
    {
      "cell_type": "code",
      "metadata": {
        "colab": {
          "base_uri": "https://localhost:8080/",
          "height": 549
        },
        "id": "kqrcrpoc9t90",
        "outputId": "448f7035-5347-4e9d-e96b-cb255f1b0c9a"
      },
      "source": [
        "nan_df = data[data.isna().values == True]\n",
        "nan_df"
      ],
      "execution_count": 14,
      "outputs": [
        {
          "output_type": "execute_result",
          "data": {
            "text/html": [
              "<div>\n",
              "<style scoped>\n",
              "    .dataframe tbody tr th:only-of-type {\n",
              "        vertical-align: middle;\n",
              "    }\n",
              "\n",
              "    .dataframe tbody tr th {\n",
              "        vertical-align: top;\n",
              "    }\n",
              "\n",
              "    .dataframe thead th {\n",
              "        text-align: right;\n",
              "    }\n",
              "</style>\n",
              "<table border=\"1\" class=\"dataframe\">\n",
              "  <thead>\n",
              "    <tr style=\"text-align: right;\">\n",
              "      <th></th>\n",
              "      <th>Doses administered per 100 people</th>\n",
              "      <th>Total doses administered</th>\n",
              "      <th>% of population vaccinated</th>\n",
              "      <th>% of population fully vaccinated</th>\n",
              "    </tr>\n",
              "    <tr>\n",
              "      <th>Country</th>\n",
              "      <th></th>\n",
              "      <th></th>\n",
              "      <th></th>\n",
              "      <th></th>\n",
              "    </tr>\n",
              "  </thead>\n",
              "  <tbody>\n",
              "    <tr>\n",
              "      <th>Kuwait</th>\n",
              "      <td>74.0</td>\n",
              "      <td>3100000.0</td>\n",
              "      <td>68.0</td>\n",
              "      <td>NaN</td>\n",
              "    </tr>\n",
              "    <tr>\n",
              "      <th>Bhutan</th>\n",
              "      <td>64.0</td>\n",
              "      <td>484751.0</td>\n",
              "      <td>64.0</td>\n",
              "      <td>NaN</td>\n",
              "    </tr>\n",
              "    <tr>\n",
              "      <th>Algeria</th>\n",
              "      <td>5.8</td>\n",
              "      <td>2500000.0</td>\n",
              "      <td>5.8</td>\n",
              "      <td>NaN</td>\n",
              "    </tr>\n",
              "    <tr>\n",
              "      <th>Libya</th>\n",
              "      <td>5.5</td>\n",
              "      <td>370066.0</td>\n",
              "      <td>5.5</td>\n",
              "      <td>NaN</td>\n",
              "    </tr>\n",
              "    <tr>\n",
              "      <th>Ivory Coast</th>\n",
              "      <td>2.9</td>\n",
              "      <td>749368.0</td>\n",
              "      <td>2.9</td>\n",
              "      <td>NaN</td>\n",
              "    </tr>\n",
              "    <tr>\n",
              "      <th>Vanuatu</th>\n",
              "      <td>2.5</td>\n",
              "      <td>7462.0</td>\n",
              "      <td>2.5</td>\n",
              "      <td>NaN</td>\n",
              "    </tr>\n",
              "    <tr>\n",
              "      <th>Uganda</th>\n",
              "      <td>1.9</td>\n",
              "      <td>854443.0</td>\n",
              "      <td>1.9</td>\n",
              "      <td>NaN</td>\n",
              "    </tr>\n",
              "    <tr>\n",
              "      <th>Republic of the Congo</th>\n",
              "      <td>1.9</td>\n",
              "      <td>102642.0</td>\n",
              "      <td>1.9</td>\n",
              "      <td>NaN</td>\n",
              "    </tr>\n",
              "    <tr>\n",
              "      <th>Ethiopia</th>\n",
              "      <td>1.8</td>\n",
              "      <td>1989297.0</td>\n",
              "      <td>1.7</td>\n",
              "      <td>NaN</td>\n",
              "    </tr>\n",
              "    <tr>\n",
              "      <th>Central African Republic</th>\n",
              "      <td>1.6</td>\n",
              "      <td>78137.0</td>\n",
              "      <td>1.6</td>\n",
              "      <td>NaN</td>\n",
              "    </tr>\n",
              "    <tr>\n",
              "      <th>Yemen</th>\n",
              "      <td>0.9</td>\n",
              "      <td>268753.0</td>\n",
              "      <td>0.9</td>\n",
              "      <td>NaN</td>\n",
              "    </tr>\n",
              "    <tr>\n",
              "      <th>Madagascar</th>\n",
              "      <td>0.7</td>\n",
              "      <td>197001.0</td>\n",
              "      <td>0.7</td>\n",
              "      <td>NaN</td>\n",
              "    </tr>\n",
              "    <tr>\n",
              "      <th>Papua New Guinea</th>\n",
              "      <td>0.5</td>\n",
              "      <td>44327.0</td>\n",
              "      <td>0.5</td>\n",
              "      <td>NaN</td>\n",
              "    </tr>\n",
              "    <tr>\n",
              "      <th>Burkina Faso</th>\n",
              "      <td>0.1</td>\n",
              "      <td>25833.0</td>\n",
              "      <td>0.1</td>\n",
              "      <td>NaN</td>\n",
              "    </tr>\n",
              "    <tr>\n",
              "      <th>Chad</th>\n",
              "      <td>0.1</td>\n",
              "      <td>8981.0</td>\n",
              "      <td>0.1</td>\n",
              "      <td>NaN</td>\n",
              "    </tr>\n",
              "  </tbody>\n",
              "</table>\n",
              "</div>"
            ],
            "text/plain": [
              "                          Doses administered per 100 people  ...  % of population fully vaccinated\n",
              "Country                                                      ...                                  \n",
              "Kuwait                                                 74.0  ...                               NaN\n",
              "Bhutan                                                 64.0  ...                               NaN\n",
              "Algeria                                                 5.8  ...                               NaN\n",
              "Libya                                                   5.5  ...                               NaN\n",
              "Ivory Coast                                             2.9  ...                               NaN\n",
              "Vanuatu                                                 2.5  ...                               NaN\n",
              "Uganda                                                  1.9  ...                               NaN\n",
              "Republic of the Congo                                   1.9  ...                               NaN\n",
              "Ethiopia                                                1.8  ...                               NaN\n",
              "Central African Republic                                1.6  ...                               NaN\n",
              "Yemen                                                   0.9  ...                               NaN\n",
              "Madagascar                                              0.7  ...                               NaN\n",
              "Papua New Guinea                                        0.5  ...                               NaN\n",
              "Burkina Faso                                            0.1  ...                               NaN\n",
              "Chad                                                    0.1  ...                               NaN\n",
              "\n",
              "[15 rows x 4 columns]"
            ]
          },
          "metadata": {
            "tags": []
          },
          "execution_count": 14
        }
      ]
    },
    {
      "cell_type": "code",
      "metadata": {
        "colab": {
          "base_uri": "https://localhost:8080/"
        },
        "id": "9EcB4ChwWi0T",
        "outputId": "981ef52e-9249-4104-b4b5-3f1ba112e533"
      },
      "source": [
        "cols = [\n",
        "\"Doses administered per 100 people\",\n",
        "\"Total doses administered\",\n",
        "\"% of population vaccinated\",\n",
        "\"% of population fully vaccinated\"        \n",
        "]\n",
        "\n",
        "data.sort_values(by=\"% of population vaccinated\" , ascending = False)\n",
        "print(data.isna().sum())"
      ],
      "execution_count": 15,
      "outputs": [
        {
          "output_type": "stream",
          "text": [
            "Doses administered per 100 people     0\n",
            "Total doses administered              0\n",
            "% of population vaccinated            0\n",
            "% of population fully vaccinated     15\n",
            "dtype: int64\n"
          ],
          "name": "stdout"
        }
      ]
    },
    {
      "cell_type": "markdown",
      "metadata": {
        "id": "FG3OI495-2Rz"
      },
      "source": [
        "check the relationship between Doses administered per 100 people and % of population fully vaccinated for fill nan values"
      ]
    },
    {
      "cell_type": "markdown",
      "metadata": {
        "id": "kR7GijnhA1s0"
      },
      "source": [
        "fill na "
      ]
    },
    {
      "cell_type": "code",
      "metadata": {
        "colab": {
          "base_uri": "https://localhost:8080/",
          "height": 572
        },
        "id": "kPFqwYNg-gxs",
        "outputId": "2f2516e4-a7a0-4234-fefc-d86ad78b29bd"
      },
      "source": [
        "figg , axx = plt.subplots(1 , 2 , figsize=(15,4))\n",
        "axx[0].plot(data[\"Doses administered per 100 people\"] , data[\"% of population fully vaccinated\"] , linewidth=2 , color='red')\n",
        "axx[0].set_title(\"(1) fully vaccinated and doses/100people relation \")\n",
        "\n",
        "\n",
        "data.fillna(method='bfill', inplace=True )\n",
        "print(\"-----------------------------------\")\n",
        "print(f\"n nan :\\n{data.isna().sum()}\")\n",
        "\n",
        "\n",
        "axx[1].plot(data[\"Doses administered per 100 people\"] , data[\"% of population fully vaccinated\"] , linewidth=2 , color='blue')\n",
        "axx[1].set_title(\"(2) fully vaccinated and doses/100people relation\")\n",
        "plt.plot()\n",
        "\n",
        "\n",
        "if data.isna().sum().sum() == 0 :\n",
        "  print(\"-----------------------------------\")\n",
        "  print(\"nan values filled\")\n",
        "  print(\"-----------------------------------\")\n",
        "else :\n",
        "  data.fillna(method='ffill', inplace=True )\n",
        "  print(\"-----------------------------------\")\n",
        "  print(f\"n nan :\\n{data.isna().sum()}\")\n",
        "  print(\"-----------------------------------\")\n",
        "  print(\"nan values filled\")\n"
      ],
      "execution_count": 16,
      "outputs": [
        {
          "output_type": "stream",
          "text": [
            "-----------------------------------\n",
            "n nan :\n",
            "Doses administered per 100 people    0\n",
            "Total doses administered             0\n",
            "% of population vaccinated           0\n",
            "% of population fully vaccinated     1\n",
            "dtype: int64\n",
            "-----------------------------------\n",
            "n nan :\n",
            "Doses administered per 100 people    0\n",
            "Total doses administered             0\n",
            "% of population vaccinated           0\n",
            "% of population fully vaccinated     0\n",
            "dtype: int64\n",
            "-----------------------------------\n",
            "nan values filled\n"
          ],
          "name": "stdout"
        },
        {
          "output_type": "display_data",
          "data": {
            "image/png": "[encoded data removed]",
            "text/plain": [
              "<Figure size 1080x288 with 2 Axes>"
            ]
          },
          "metadata": {
            "tags": [],
            "needs_background": "light"
          }
        }
      ]
    },
    {
      "cell_type": "code",
      "metadata": {
        "colab": {
          "base_uri": "https://localhost:8080/",
          "height": 1000
        },
        "id": "ONSNnWioY37E",
        "outputId": "8bc60186-241f-4b4f-83b0-6197bc481f39"
      },
      "source": [
        "data_sorted = data.iloc[:30]\n",
        "for col in cols :\n",
        "  fig = plt.figure(figsize=(15,5))\n",
        "  sns.barplot(x=data_sorted.index , y=data_sorted[col])\n",
        "  plt.xticks(size=10 , rotation=90 , color='navy')\n",
        "  plt.yticks(size=10 , rotation=0 , color='navy')\n",
        "  plt.title(col , size=15 , color='navy')\n",
        "  plt.show()\n",
        "  print('\\n\\n')\n",
        "\n"
      ],
      "execution_count": 17,
      "outputs": [
        {
          "output_type": "display_data",
          "data": {
            "image/png": "[encoded data removed]",
            "text/plain": [
              "<Figure size 1080x360 with 1 Axes>"
            ]
          },
          "metadata": {
            "tags": [],
            "needs_background": "light"
          }
        },
        {
          "output_type": "stream",
          "text": [
            "\n",
            "\n",
            "\n"
          ],
          "name": "stdout"
        },
        {
          "output_type": "display_data",
          "data": {
            "image/png": "[encoded data removed]",
            "text/plain": [
              "<Figure size 1080x360 with 1 Axes>"
            ]
          },
          "metadata": {
            "tags": [],
            "needs_background": "light"
          }
        },
        {
          "output_type": "stream",
          "text": [
            "\n",
            "\n",
            "\n"
          ],
          "name": "stdout"
        },
        {
          "output_type": "display_data",
          "data": {
            "image/png": "[encoded data removed]",
            "text/plain": [
              "<Figure size 1080x360 with 1 Axes>"
            ]
          },
          "metadata": {
            "tags": [],
            "needs_background": "light"
          }
        },
        {
          "output_type": "stream",
          "text": [
            "\n",
            "\n",
            "\n"
          ],
          "name": "stdout"
        },
        {
          "output_type": "display_data",
          "data": {
            "image/png": "[encoded data removed]",
            "text/plain": [
              "<Figure size 1080x360 with 1 Axes>"
            ]
          },
          "metadata": {
            "tags": [],
            "needs_background": "light"
          }
        },
        {
          "output_type": "stream",
          "text": [
            "\n",
            "\n",
            "\n"
          ],
          "name": "stdout"
        }
      ]
    },
    {
      "cell_type": "markdown",
      "metadata": {
        "id": "S4A-oIc-qcXJ"
      },
      "source": [
        "Fully vaccinated & population vaccinated"
      ]
    },
    {
      "cell_type": "code",
      "metadata": {
        "colab": {
          "base_uri": "https://localhost:8080/",
          "height": 279
        },
        "id": "UBV07aQ6qlzA",
        "outputId": "91830f84-408d-4b47-ee4d-420c23b89032"
      },
      "source": [
        "cols = [\n",
        "\"Doses administered per 100 people\",\n",
        "\"Total doses administered\",\n",
        "\"% of population vaccinated\",\n",
        "\"% of population fully vaccinated\"        \n",
        "]\n",
        "fig , axis = plt.subplots(nrows=1 ,ncols=2 , figsize=(12,4) )\n",
        "sns.set_style(\"darkgrid\")\n",
        "sns.scatterplot(x=data[\"% of population vaccinated\"] ,\n",
        "                y=data[\"% of population fully vaccinated\"] ,ax=axis[0] , color='black')\n",
        "sns.scatterplot(x=data[\"Doses administered per 100 people\"] ,\n",
        "                y=data[\"% of population fully vaccinated\"] ,ax=axis[1] , color='black' )\n",
        "plt.show()"
      ],
      "execution_count": 18,
      "outputs": [
        {
          "output_type": "display_data",
          "data": {
            "image/png": "[encoded data removed]",
            "text/plain": [
              "<Figure size 864x288 with 2 Axes>"
            ]
          },
          "metadata": {
            "tags": [],
            "needs_background": "light"
          }
        }
      ]
    },
    {
      "cell_type": "code",
      "metadata": {
        "id": "OvtDea8olXrK"
      },
      "source": [
        "import plotly.graph_objs as go\n",
        "import plotly.express as px\n"
      ],
      "execution_count": 19,
      "outputs": []
    },
    {
      "cell_type": "code",
      "metadata": {
        "colab": {
          "base_uri": "https://localhost:8080/",
          "height": 1000
        },
        "id": "UMgdR3uM1Ft1",
        "outputId": "5711f754-24d4-431f-d35b-b996e0d3494f"
      },
      "source": [
        "for col in cols :\n",
        "  fig = go.Figure(data = go.Choropleth(locations=data.index ,\n",
        "                                       z = data[col] ,\n",
        "                                       locationmode='country names' ,\n",
        "                                       colorscale = 'cividis' ,\n",
        "                                       reversescale=True , \n",
        "                                       marker_line_color='LightGray' ,\n",
        "                                       marker_line_width=0.1 ,\n",
        "                                       colorbar_title = 'Total doses administrated'\n",
        "                                       ))\n",
        "  fig.update_traces(colorbar_title_font = dict(family = 'Droid Sans',\n",
        "                                               size = 10,\n",
        "                                               color = 'DarkBlue',\n",
        "                                               ))\n",
        "  fig.update_layout(\n",
        "      title_text = (f'countries in the world base ({col})'),\n",
        "      title_x = 0.5\n",
        "\n",
        "  )\n",
        "  fig.show()"
      ],
      "execution_count": 20,
      "outputs": [
        {
          "output_type": "display_data",
          "data": {
            "text/html": [
              "<html>\n",
              "<head><meta charset=\"utf-8\" /></head>\n",
              "<body>\n",
              "    <div>\n",
              "            <script src=\"https://cdnjs.cloudflare.com/ajax/libs/mathjax/2.7.5/MathJax.js?config=TeX-AMS-MML_SVG\"></script><script type=\"text/javascript\">if (window.MathJax) {MathJax.Hub.Config({SVG: {font: \"STIX-Web\"}});}</script>\n",
              "                <script type=\"text/javascript\">window.PlotlyConfig = {MathJaxConfig: 'local'};</script>\n",
              "        <script src=\"https://cdn.plot.ly/plotly-latest.min.js\"></script>    \n",
              "            <div id=\"8cc233ef-4f6e-4d07-a642-101695cf438f\" class=\"plotly-graph-div\" style=\"height:525px; width:100%;\"></div>\n",
              "            <script type=\"text/javascript\">\n",
              "                \n",
              "                    window.PLOTLYENV=window.PLOTLYENV || {};\n",
              "                    \n",
              "                if (document.getElementById(\"8cc233ef-4f6e-4d07-a642-101695cf438f\")) {\n",
              "                    Plotly.newPlot(\n",
              "                        '8cc233ef-4f6e-4d07-a642-101695cf438f',\n",
              "                        [{\"colorbar\": {\"title\": {\"font\": {\"color\": \"DarkBlue\", \"family\": \"Droid Sans\", \"size\": 10}, \"text\": \"Total doses administrated\"}}, \"colorscale\": [[0.0, \"#00224e\"], [0.1111111111111111, \"#123570\"], [0.2222222222222222, \"#3b496c\"], [0.3333333333333333, \"#575d6d\"], [0.4444444444444444, \"#707173\"], [0.5555555555555556, \"#8a8678\"], [0.6666666666666666, \"#a59c74\"], [0.7777777777777778, \"#c3b369\"], [0.8888888888888888, \"#e1cc55\"], [1.0, \"#fee838\"]], \"locationmode\": \"country names\", \"locations\": [\"Malta\", \"Bahrain\", \"Aruba\", \"Israel\", \"Chile\", \"U.K.\", \"Mongolia\", \"Uruguay\", \"Qatar\", \"Iceland\", \"Cura\\u00e7ao\", \"Hungary\", \"United States\", \"Canada\", \"Maldives\", \"Singapore\", \"Belgium\", \"Netherlands\", \"Germany\", \"Mainland China\", \"Luxembourg\", \"Spain\", \"Austria\", \"Italy\", \"Switzerland\", \"Portugal\", \"Lithuania\", \"France\", \"Greece\", \"Finland\", \"Czech Republic\", \"Poland\", \"Norway\", \"Sweden\", \"Ireland\", \"Serbia\", \"Kuwait\", \"Estonia\", \"Dominican Rep.\", \"Slovenia\", \"Slovakia\", \"Cyprus\", \"Bhutan\", \"Croatia\", \"Turkey\", \"Latvia\", \"Barbados\", \"Mauritius\", \"Macau\", \"Morocco\", \"Cuba\", \"Hong Kong\", \"Costa Rica\", \"French Polynesia\", \"Brazil\", \"Montenegro\", \"Romania\", \"Argentina\", \"Cambodia\", \"Guyana\", \"El Salvador\", \"New Caledonia\", \"South Korea\", \"Fiji\", \"Panama\", \"Jordan\", \"Colombia\", \"Mexico\", \"Japan\", \"Azerbaijan\", \"Suriname\", \"Albania\", \"Australia\", \"Saint Lucia\", \"Tonga\", \"Grenada\", \"Kazakhstan\", \"Samoa\", \"Russia\", \"Belize\", \"Moldova\", \"North Macedonia\", \"Bulgaria\", \"Malaysia\", \"India\", \"Ecuador\", \"New Zealand\", \"Peru\", \"Oman\", \"Bolivia\", \"Trinidad and Tobago\", \"Bahamas\", \"Laos\", \"Equatorial Guinea\", \"Lebanon\", \"West Bank & Gaza\", \"Brunei\", \"Sri Lanka\", \"Indonesia\", \"Tunisia\", \"Cape Verde\", \"Timor-Leste\", \"Bosnia and Herzegovina\", \"Thailand\", \"S\\u00e3o Tom\\u00e9 and Pr\\u00edncipe\", \"Nepal\", \"Belarus\", \"Comoros\", \"Georgia\", \"Botswana\", \"Philippines\", \"Zimbabwe\", \"Paraguay\", \"Jamaica\", \"Taiwan\", \"Uzbekistan\", \"Honduras\", \"Pakistan\", \"Bangladesh\", \"Iran\", \"Ukraine\", \"Algeria\", \"Namibia\", \"Guatemala\", \"Libya\", \"Venezuela\", \"South Africa\", \"Angola\", \"Rwanda\", \"Togo\", \"Egypt\", \"Guinea\", \"Eswatini\", \"Senegal\", \"Ghana\", \"Vietnam\", \"Solomon Islands\", \"Mauritania\", \"Ivory Coast\", \"Djibouti\", \"Kyrgyzstan\", \"Kenya\", \"Vanuatu\", \"Malawi\", \"Gabon\", \"Afghanistan\", \"Armenia\", \"Iraq\", \"Uganda\", \"Republic of the Congo\", \"Ethiopia\", \"Gambia\", \"Nigeria\", \"Liberia\", \"Central African Republic\", \"Sudan\", \"Mozambique\", \"Tajikistan\", \"Somalia\", \"Sierra Leone\", \"Guinea-Bissau\", \"Niger\", \"Yemen\", \"Mali\", \"Zambia\", \"Madagascar\", \"Syria\", \"Papua New Guinea\", \"Cameroon\", \"South Sudan\", \"Benin\", \"Burkina Faso\", \"Congo\", \"Chad\"], \"marker\": {\"line\": {\"color\": \"LightGray\", \"width\": 0.1}}, \"reversescale\": true, \"type\": \"choropleth\", \"z\": [131.0, 129.0, 119.0, 119.0, 119.0, 116.0, 115.0, 112.0, 110.0, 108.0, 106.0, 101.0, 98.0, 98.0, 95.0, 94.0, 93.0, 90.0, 89.0, 88.0, 86.0, 86.0, 86.0, 85.0, 84.0, 83.0, 81.0, 79.0, 77.0, 76.0, 76.0, 76.0, 76.0, 75.0, 74.0, 74.0, 74.0, 71.0, 71.0, 71.0, 66.0, 65.0, 64.0, 63.0, 59.0, 59.0, 58.0, 56.0, 53.0, 52.0, 50.0, 49.0, 48.0, 47.0, 47.0, 46.0, 46.0, 45.0, 43.0, 43.0, 41.0, 39.0, 37.0, 36.0, 36.0, 36.0, 35.0, 35.0, 34.0, 34.0, 33.0, 33.0, 30.0, 29.0, 29.0, 28.0, 28.0, 28.0, 27.0, 27.0, 27.0, 26.0, 25.0, 24.0, 24.0, 24.0, 23.0, 22.0, 21.0, 21.0, 21.0, 20.0, 20.0, 20.0, 19.0, 18.0, 18.0, 16.0, 16.0, 15.0, 15.0, 15.0, 14.0, 14.0, 13.0, 12.0, 11.0, 9.9, 9.5, 9.5, 9.5, 8.9, 8.7, 8.5, 8.4, 8.0, 7.0, 6.2, 6.2, 6.0, 5.8, 5.8, 5.7, 5.6, 5.5, 5.1, 5.0, 4.7, 4.6, 4.3, 4.2, 4.2, 4.1, 4.1, 4.1, 3.7, 3.2, 3.1, 2.9, 2.8, 2.7, 2.5, 2.5, 2.3, 2.3, 2.2, 2.2, 2.0, 1.9, 1.9, 1.8, 1.7, 1.7, 1.7, 1.6, 1.6, 1.4, 1.4, 1.3, 1.2, 1.2, 1.1, 0.9, 0.9, 0.8, 0.7, 0.6, 0.5, 0.4, 0.4, 0.4, 0.1, 0.1, 0.1]}],\n",
              "                        {\"template\": {\"data\": {\"bar\": [{\"error_x\": {\"color\": \"#2a3f5f\"}, \"error_y\": {\"color\": \"#2a3f5f\"}, \"marker\": {\"line\": {\"color\": \"#E5ECF6\", \"width\": 0.5}}, \"type\": \"bar\"}], \"barpolar\": [{\"marker\": {\"line\": {\"color\": \"#E5ECF6\", \"width\": 0.5}}, \"type\": \"barpolar\"}], \"carpet\": [{\"aaxis\": {\"endlinecolor\": \"#2a3f5f\", \"gridcolor\": \"white\", \"linecolor\": \"white\", \"minorgridcolor\": \"white\", \"startlinecolor\": \"#2a3f5f\"}, \"baxis\": {\"endlinecolor\": \"#2a3f5f\", \"gridcolor\": \"white\", \"linecolor\": \"white\", \"minorgridcolor\": \"white\", \"startlinecolor\": \"#2a3f5f\"}, \"type\": \"carpet\"}], \"choropleth\": [{\"colorbar\": {\"outlinewidth\": 0, \"ticks\": \"\"}, \"type\": \"choropleth\"}], \"contour\": [{\"colorbar\": {\"outlinewidth\": 0, \"ticks\": \"\"}, \"colorscale\": [[0.0, \"#0d0887\"], [0.1111111111111111, \"#46039f\"], [0.2222222222222222, \"#7201a8\"], [0.3333333333333333, \"#9c179e\"], [0.4444444444444444, \"#bd3786\"], [0.5555555555555556, \"#d8576b\"], [0.6666666666666666, \"#ed7953\"], [0.7777777777777778, \"#fb9f3a\"], [0.8888888888888888, \"#fdca26\"], [1.0, \"#f0f921\"]], \"type\": \"contour\"}], \"contourcarpet\": [{\"colorbar\": {\"outlinewidth\": 0, \"ticks\": \"\"}, \"type\": \"contourcarpet\"}], \"heatmap\": [{\"colorbar\": {\"outlinewidth\": 0, \"ticks\": \"\"}, \"colorscale\": [[0.0, \"#0d0887\"], [0.1111111111111111, \"#46039f\"], [0.2222222222222222, \"#7201a8\"], [0.3333333333333333, \"#9c179e\"], [0.4444444444444444, \"#bd3786\"], [0.5555555555555556, \"#d8576b\"], [0.6666666666666666, \"#ed7953\"], [0.7777777777777778, \"#fb9f3a\"], [0.8888888888888888, \"#fdca26\"], [1.0, \"#f0f921\"]], \"type\": \"heatmap\"}], \"heatmapgl\": [{\"colorbar\": {\"outlinewidth\": 0, \"ticks\": \"\"}, \"colorscale\": [[0.0, \"#0d0887\"], [0.1111111111111111, \"#46039f\"], [0.2222222222222222, \"#7201a8\"], [0.3333333333333333, \"#9c179e\"], [0.4444444444444444, \"#bd3786\"], [0.5555555555555556, \"#d8576b\"], [0.6666666666666666, \"#ed7953\"], [0.7777777777777778, \"#fb9f3a\"], [0.8888888888888888, \"#fdca26\"], [1.0, \"#f0f921\"]], \"type\": \"heatmapgl\"}], \"histogram\": [{\"marker\": {\"colorbar\": {\"outlinewidth\": 0, \"ticks\": \"\"}}, \"type\": \"histogram\"}], \"histogram2d\": [{\"colorbar\": {\"outlinewidth\": 0, \"ticks\": \"\"}, \"colorscale\": [[0.0, \"#0d0887\"], [0.1111111111111111, \"#46039f\"], [0.2222222222222222, \"#7201a8\"], [0.3333333333333333, \"#9c179e\"], [0.4444444444444444, \"#bd3786\"], [0.5555555555555556, \"#d8576b\"], [0.6666666666666666, \"#ed7953\"], [0.7777777777777778, \"#fb9f3a\"], [0.8888888888888888, \"#fdca26\"], [1.0, \"#f0f921\"]], \"type\": \"histogram2d\"}], \"histogram2dcontour\": [{\"colorbar\": {\"outlinewidth\": 0, \"ticks\": \"\"}, \"colorscale\": [[0.0, \"#0d0887\"], [0.1111111111111111, \"#46039f\"], [0.2222222222222222, \"#7201a8\"], [0.3333333333333333, \"#9c179e\"], [0.4444444444444444, \"#bd3786\"], [0.5555555555555556, \"#d8576b\"], [0.6666666666666666, \"#ed7953\"], [0.7777777777777778, \"#fb9f3a\"], [0.8888888888888888, \"#fdca26\"], [1.0, \"#f0f921\"]], \"type\": \"histogram2dcontour\"}], \"mesh3d\": [{\"colorbar\": {\"outlinewidth\": 0, \"ticks\": \"\"}, \"type\": \"mesh3d\"}], \"parcoords\": [{\"line\": {\"colorbar\": {\"outlinewidth\": 0, \"ticks\": \"\"}}, \"type\": \"parcoords\"}], \"pie\": [{\"automargin\": true, \"type\": \"pie\"}], \"scatter\": [{\"marker\": {\"colorbar\": {\"outlinewidth\": 0, \"ticks\": \"\"}}, \"type\": \"scatter\"}], \"scatter3d\": [{\"line\": {\"colorbar\": {\"outlinewidth\": 0, \"ticks\": \"\"}}, \"marker\": {\"colorbar\": {\"outlinewidth\": 0, \"ticks\": \"\"}}, \"type\": \"scatter3d\"}], \"scattercarpet\": [{\"marker\": {\"colorbar\": {\"outlinewidth\": 0, \"ticks\": \"\"}}, \"type\": \"scattercarpet\"}], \"scattergeo\": [{\"marker\": {\"colorbar\": {\"outlinewidth\": 0, \"ticks\": \"\"}}, \"type\": \"scattergeo\"}], \"scattergl\": [{\"marker\": {\"colorbar\": {\"outlinewidth\": 0, \"ticks\": \"\"}}, \"type\": \"scattergl\"}], \"scattermapbox\": [{\"marker\": {\"colorbar\": {\"outlinewidth\": 0, \"ticks\": \"\"}}, \"type\": \"scattermapbox\"}], \"scatterpolar\": [{\"marker\": {\"colorbar\": {\"outlinewidth\": 0, \"ticks\": \"\"}}, \"type\": \"scatterpolar\"}], \"scatterpolargl\": [{\"marker\": {\"colorbar\": {\"outlinewidth\": 0, \"ticks\": \"\"}}, \"type\": \"scatterpolargl\"}], \"scatterternary\": [{\"marker\": {\"colorbar\": {\"outlinewidth\": 0, \"ticks\": \"\"}}, \"type\": \"scatterternary\"}], \"surface\": [{\"colorbar\": {\"outlinewidth\": 0, \"ticks\": \"\"}, \"colorscale\": [[0.0, \"#0d0887\"], [0.1111111111111111, \"#46039f\"], [0.2222222222222222, \"#7201a8\"], [0.3333333333333333, \"#9c179e\"], [0.4444444444444444, \"#bd3786\"], [0.5555555555555556, \"#d8576b\"], [0.6666666666666666, \"#ed7953\"], [0.7777777777777778, \"#fb9f3a\"], [0.8888888888888888, \"#fdca26\"], [1.0, \"#f0f921\"]], \"type\": \"surface\"}], \"table\": [{\"cells\": {\"fill\": {\"color\": \"#EBF0F8\"}, \"line\": {\"color\": \"white\"}}, \"header\": {\"fill\": {\"color\": \"#C8D4E3\"}, \"line\": {\"color\": \"white\"}}, \"type\": \"table\"}]}, \"layout\": {\"annotationdefaults\": {\"arrowcolor\": \"#2a3f5f\", \"arrowhead\": 0, \"arrowwidth\": 1}, \"coloraxis\": {\"colorbar\": {\"outlinewidth\": 0, \"ticks\": \"\"}}, \"colorscale\": {\"diverging\": [[0, \"#8e0152\"], [0.1, \"#c51b7d\"], [0.2, \"#de77ae\"], [0.3, \"#f1b6da\"], [0.4, \"#fde0ef\"], [0.5, \"#f7f7f7\"], [0.6, \"#e6f5d0\"], [0.7, \"#b8e186\"], [0.8, \"#7fbc41\"], [0.9, \"#4d9221\"], [1, \"#276419\"]], \"sequential\": [[0.0, \"#0d0887\"], [0.1111111111111111, \"#46039f\"], [0.2222222222222222, \"#7201a8\"], [0.3333333333333333, \"#9c179e\"], [0.4444444444444444, \"#bd3786\"], [0.5555555555555556, \"#d8576b\"], [0.6666666666666666, \"#ed7953\"], [0.7777777777777778, \"#fb9f3a\"], [0.8888888888888888, \"#fdca26\"], [1.0, \"#f0f921\"]], \"sequentialminus\": [[0.0, \"#0d0887\"], [0.1111111111111111, \"#46039f\"], [0.2222222222222222, \"#7201a8\"], [0.3333333333333333, \"#9c179e\"], [0.4444444444444444, \"#bd3786\"], [0.5555555555555556, \"#d8576b\"], [0.6666666666666666, \"#ed7953\"], [0.7777777777777778, \"#fb9f3a\"], [0.8888888888888888, \"#fdca26\"], [1.0, \"#f0f921\"]]}, \"colorway\": [\"#636efa\", \"#EF553B\", \"#00cc96\", \"#ab63fa\", \"#FFA15A\", \"#19d3f3\", \"#FF6692\", \"#B6E880\", \"#FF97FF\", \"#FECB52\"], \"font\": {\"color\": \"#2a3f5f\"}, \"geo\": {\"bgcolor\": \"white\", \"lakecolor\": \"white\", \"landcolor\": \"#E5ECF6\", \"showlakes\": true, \"showland\": true, \"subunitcolor\": \"white\"}, \"hoverlabel\": {\"align\": \"left\"}, \"hovermode\": \"closest\", \"mapbox\": {\"style\": \"light\"}, \"paper_bgcolor\": \"white\", \"plot_bgcolor\": \"#E5ECF6\", \"polar\": {\"angularaxis\": {\"gridcolor\": \"white\", \"linecolor\": \"white\", \"ticks\": \"\"}, \"bgcolor\": \"#E5ECF6\", \"radialaxis\": {\"gridcolor\": \"white\", \"linecolor\": \"white\", \"ticks\": \"\"}}, \"scene\": {\"xaxis\": {\"backgroundcolor\": \"#E5ECF6\", \"gridcolor\": \"white\", \"gridwidth\": 2, \"linecolor\": \"white\", \"showbackground\": true, \"ticks\": \"\", \"zerolinecolor\": \"white\"}, \"yaxis\": {\"backgroundcolor\": \"#E5ECF6\", \"gridcolor\": \"white\", \"gridwidth\": 2, \"linecolor\": \"white\", \"showbackground\": true, \"ticks\": \"\", \"zerolinecolor\": \"white\"}, \"zaxis\": {\"backgroundcolor\": \"#E5ECF6\", \"gridcolor\": \"white\", \"gridwidth\": 2, \"linecolor\": \"white\", \"showbackground\": true, \"ticks\": \"\", \"zerolinecolor\": \"white\"}}, \"shapedefaults\": {\"line\": {\"color\": \"#2a3f5f\"}}, \"ternary\": {\"aaxis\": {\"gridcolor\": \"white\", \"linecolor\": \"white\", \"ticks\": \"\"}, \"baxis\": {\"gridcolor\": \"white\", \"linecolor\": \"white\", \"ticks\": \"\"}, \"bgcolor\": \"#E5ECF6\", \"caxis\": {\"gridcolor\": \"white\", \"linecolor\": \"white\", \"ticks\": \"\"}}, \"title\": {\"x\": 0.05}, \"xaxis\": {\"automargin\": true, \"gridcolor\": \"white\", \"linecolor\": \"white\", \"ticks\": \"\", \"title\": {\"standoff\": 15}, \"zerolinecolor\": \"white\", \"zerolinewidth\": 2}, \"yaxis\": {\"automargin\": true, \"gridcolor\": \"white\", \"linecolor\": \"white\", \"ticks\": \"\", \"title\": {\"standoff\": 15}, \"zerolinecolor\": \"white\", \"zerolinewidth\": 2}}}, \"title\": {\"text\": \"countries in the world base (Doses administered per 100 people)\", \"x\": 0.5}},\n",
              "                        {\"responsive\": true}\n",
              "                    ).then(function(){\n",
              "                            \n",
              "var gd = document.getElementById('8cc233ef-4f6e-4d07-a642-101695cf438f');\n",
              "var x = new MutationObserver(function (mutations, observer) {{\n",
              "        var display = window.getComputedStyle(gd).display;\n",
              "        if (!display || display === 'none') {{\n",
              "            console.log([gd, 'removed!']);\n",
              "            Plotly.purge(gd);\n",
              "            observer.disconnect();\n",
              "        }}\n",
              "}});\n",
              "\n",
              "// Listen for the removal of the full notebook cells\n",
              "var notebookContainer = gd.closest('#notebook-container');\n",
              "if (notebookContainer) {{\n",
              "    x.observe(notebookContainer, {childList: true});\n",
              "}}\n",
              "\n",
              "// Listen for the clearing of the current output cell\n",
              "var outputEl = gd.closest('.output');\n",
              "if (outputEl) {{\n",
              "    x.observe(outputEl, {childList: true});\n",
              "}}\n",
              "\n",
              "                        })\n",
              "                };\n",
              "                \n",
              "            </script>\n",
              "        </div>\n",
              "</body>\n",
              "</html>"
            ]
          },
          "metadata": {
            "tags": []
          }
        },
        {
          "output_type": "display_data",
          "data": {
            "text/html": [
              "<html>\n",
              "<head><meta charset=\"utf-8\" /></head>\n",
              "<body>\n",
              "    <div>\n",
              "            <script src=\"https://cdnjs.cloudflare.com/ajax/libs/mathjax/2.7.5/MathJax.js?config=TeX-AMS-MML_SVG\"></script><script type=\"text/javascript\">if (window.MathJax) {MathJax.Hub.Config({SVG: {font: \"STIX-Web\"}});}</script>\n",
              "                <script type=\"text/javascript\">window.PlotlyConfig = {MathJaxConfig: 'local'};</script>\n",
              "        <script src=\"https://cdn.plot.ly/plotly-latest.min.js\"></script>    \n",
              "            <div id=\"b0ca66d3-3ecb-41d0-9a48-a2e0a8cf5075\" class=\"plotly-graph-div\" style=\"height:525px; width:100%;\"></div>\n",
              "            <script type=\"text/javascript\">\n",
              "                \n",
              "                    window.PLOTLYENV=window.PLOTLYENV || {};\n",
              "                    \n",
              "                if (document.getElementById(\"b0ca66d3-3ecb-41d0-9a48-a2e0a8cf5075\")) {\n",
              "                    Plotly.newPlot(\n",
              "                        'b0ca66d3-3ecb-41d0-9a48-a2e0a8cf5075',\n",
              "                        [{\"colorbar\": {\"title\": {\"font\": {\"color\": \"DarkBlue\", \"family\": \"Droid Sans\", \"size\": 10}, \"text\": \"Total doses administrated\"}}, \"colorscale\": [[0.0, \"#00224e\"], [0.1111111111111111, \"#123570\"], [0.2222222222222222, \"#3b496c\"], [0.3333333333333333, \"#575d6d\"], [0.4444444444444444, \"#707173\"], [0.5555555555555556, \"#8a8678\"], [0.6666666666666666, \"#a59c74\"], [0.7777777777777778, \"#c3b369\"], [0.8888888888888888, \"#e1cc55\"], [1.0, \"#fee838\"]], \"locationmode\": \"country names\", \"locations\": [\"Malta\", \"Bahrain\", \"Aruba\", \"Israel\", \"Chile\", \"U.K.\", \"Mongolia\", \"Uruguay\", \"Qatar\", \"Iceland\", \"Cura\\u00e7ao\", \"Hungary\", \"United States\", \"Canada\", \"Maldives\", \"Singapore\", \"Belgium\", \"Netherlands\", \"Germany\", \"Mainland China\", \"Luxembourg\", \"Spain\", \"Austria\", \"Italy\", \"Switzerland\", \"Portugal\", \"Lithuania\", \"France\", \"Greece\", \"Finland\", \"Czech Republic\", \"Poland\", \"Norway\", \"Sweden\", \"Ireland\", \"Serbia\", \"Kuwait\", \"Estonia\", \"Dominican Rep.\", \"Slovenia\", \"Slovakia\", \"Cyprus\", \"Bhutan\", \"Croatia\", \"Turkey\", \"Latvia\", \"Barbados\", \"Mauritius\", \"Macau\", \"Morocco\", \"Cuba\", \"Hong Kong\", \"Costa Rica\", \"French Polynesia\", \"Brazil\", \"Montenegro\", \"Romania\", \"Argentina\", \"Cambodia\", \"Guyana\", \"El Salvador\", \"New Caledonia\", \"South Korea\", \"Fiji\", \"Panama\", \"Jordan\", \"Colombia\", \"Mexico\", \"Japan\", \"Azerbaijan\", \"Suriname\", \"Albania\", \"Australia\", \"Saint Lucia\", \"Tonga\", \"Grenada\", \"Kazakhstan\", \"Samoa\", \"Russia\", \"Belize\", \"Moldova\", \"North Macedonia\", \"Bulgaria\", \"Malaysia\", \"India\", \"Ecuador\", \"New Zealand\", \"Peru\", \"Oman\", \"Bolivia\", \"Trinidad and Tobago\", \"Bahamas\", \"Laos\", \"Equatorial Guinea\", \"Lebanon\", \"West Bank & Gaza\", \"Brunei\", \"Sri Lanka\", \"Indonesia\", \"Tunisia\", \"Cape Verde\", \"Timor-Leste\", \"Bosnia and Herzegovina\", \"Thailand\", \"S\\u00e3o Tom\\u00e9 and Pr\\u00edncipe\", \"Nepal\", \"Belarus\", \"Comoros\", \"Georgia\", \"Botswana\", \"Philippines\", \"Zimbabwe\", \"Paraguay\", \"Jamaica\", \"Taiwan\", \"Uzbekistan\", \"Honduras\", \"Pakistan\", \"Bangladesh\", \"Iran\", \"Ukraine\", \"Algeria\", \"Namibia\", \"Guatemala\", \"Libya\", \"Venezuela\", \"South Africa\", \"Angola\", \"Rwanda\", \"Togo\", \"Egypt\", \"Guinea\", \"Eswatini\", \"Senegal\", \"Ghana\", \"Vietnam\", \"Solomon Islands\", \"Mauritania\", \"Ivory Coast\", \"Djibouti\", \"Kyrgyzstan\", \"Kenya\", \"Vanuatu\", \"Malawi\", \"Gabon\", \"Afghanistan\", \"Armenia\", \"Iraq\", \"Uganda\", \"Republic of the Congo\", \"Ethiopia\", \"Gambia\", \"Nigeria\", \"Liberia\", \"Central African Republic\", \"Sudan\", \"Mozambique\", \"Tajikistan\", \"Somalia\", \"Sierra Leone\", \"Guinea-Bissau\", \"Niger\", \"Yemen\", \"Mali\", \"Zambia\", \"Madagascar\", \"Syria\", \"Papua New Guinea\", \"Cameroon\", \"South Sudan\", \"Benin\", \"Burkina Faso\", \"Congo\", \"Chad\"], \"marker\": {\"line\": {\"color\": \"LightGray\", \"width\": 0.1}}, \"reversescale\": true, \"type\": \"choropleth\", \"z\": [659488.0, 2116497.0, 126387.0, 10749083.0, 22501356.0, 77303533.0, 3720002.0, 3882882.0, 3109044.0, 390877.0, 167151.0, 9839749.0, 325152847.0, 36775433.0, 506233.0, 5365803.0, 10666126.0, 15512950.0, 73754612.0, 1225734000.0, 534876.0, 40565038.0, 7631324.0, 51007304.0, 7236625.0, 8480339.0, 2261823.0, 53083231.0, 8299173.0, 4213157.0, 8119241.0, 28888753.0, 4039445.0, 7731190.0, 3679531.0, 5146241.0, 3100000.0, 947158.0, 7653536.0, 1478156.0, 3590631.0, 777935.0, 484751.0, 2545040.0, 49401445.0, 1128796.0, 165339.0, 706948.0, 335125.0, 18862912.0, 5676321.0, 3668877.0, 2440385.0, 132540.0, 98827485.0, 287653.0, 8916725.0, 20221697.0, 7093483.0, 335091.0, 2674605.0, 111259.0, 19099022.0, 322299.0, 1534248.0, 3617998.0, 17570929.0, 44385584.0, 43504931.0, 3422241.0, 192975.0, 943439.0, 7500700.0, 52596.0, 29980.0, 31494.0, 5201167.0, 54663.0, 39328425.0, 106010.0, 706942.0, 542699.0, 1748265.0, 7824912.0, 327423913.0, 4091026.0, 1149608.0, 7233445.0, 1064804.0, 2450510.0, 292803.0, 79246.0, 1416267.0, 264853.0, 1312854.0, 841569.0, 76471.0, 3575996.0, 42040501.0, 1793424.0, 82451.0, 189266.0, 456521.0, 9416972.0, 27986.0, 3354095.0, 1068413.0, 84360.0, 354949.0, 219488.0, 10236354.0, 1299154.0, 615602.0, 249983.0, 2002677.0, 2695058.0, 684035.0, 13484364.0, 10101143.0, 4968642.0, 2583468.0, 2500000.0, 141164.0, 925387.0, 370066.0, 1466988.0, 2900666.0, 1488292.0, 578569.0, 347246.0, 4253397.0, 540698.0, 47623.0, 664826.0, 1232876.0, 3593970.0, 21742.0, 142362.0, 749368.0, 26796.0, 173700.0, 1334749.0, 7462.0, 428407.0, 49346.0, 835694.0, 64293.0, 805363.0, 854443.0, 102642.0, 1989297.0, 41077.0, 3397472.0, 82212.0, 78137.0, 671423.0, 438382.0, 132075.0, 204176.0, 97315.0, 22883.0, 255587.0, 268753.0, 179634.0, 151205.0, 197001.0, 108276.0, 44327.0, 110324.0, 44920.0, 46108.0, 25833.0, 59443.0, 8981.0]}],\n",
              "                        {\"template\": {\"data\": {\"bar\": [{\"error_x\": {\"color\": \"#2a3f5f\"}, \"error_y\": {\"color\": \"#2a3f5f\"}, \"marker\": {\"line\": {\"color\": \"#E5ECF6\", \"width\": 0.5}}, \"type\": \"bar\"}], \"barpolar\": [{\"marker\": {\"line\": {\"color\": \"#E5ECF6\", \"width\": 0.5}}, \"type\": \"barpolar\"}], \"carpet\": [{\"aaxis\": {\"endlinecolor\": \"#2a3f5f\", \"gridcolor\": \"white\", \"linecolor\": \"white\", \"minorgridcolor\": \"white\", \"startlinecolor\": \"#2a3f5f\"}, \"baxis\": {\"endlinecolor\": \"#2a3f5f\", \"gridcolor\": \"white\", \"linecolor\": \"white\", \"minorgridcolor\": \"white\", \"startlinecolor\": \"#2a3f5f\"}, \"type\": \"carpet\"}], \"choropleth\": [{\"colorbar\": {\"outlinewidth\": 0, \"ticks\": \"\"}, \"type\": \"choropleth\"}], \"contour\": [{\"colorbar\": {\"outlinewidth\": 0, \"ticks\": \"\"}, \"colorscale\": [[0.0, \"#0d0887\"], [0.1111111111111111, \"#46039f\"], [0.2222222222222222, \"#7201a8\"], [0.3333333333333333, \"#9c179e\"], [0.4444444444444444, \"#bd3786\"], [0.5555555555555556, \"#d8576b\"], [0.6666666666666666, \"#ed7953\"], [0.7777777777777778, \"#fb9f3a\"], [0.8888888888888888, \"#fdca26\"], [1.0, \"#f0f921\"]], \"type\": \"contour\"}], \"contourcarpet\": [{\"colorbar\": {\"outlinewidth\": 0, \"ticks\": \"\"}, \"type\": \"contourcarpet\"}], \"heatmap\": [{\"colorbar\": {\"outlinewidth\": 0, \"ticks\": \"\"}, \"colorscale\": [[0.0, \"#0d0887\"], [0.1111111111111111, \"#46039f\"], [0.2222222222222222, \"#7201a8\"], [0.3333333333333333, \"#9c179e\"], [0.4444444444444444, \"#bd3786\"], [0.5555555555555556, \"#d8576b\"], [0.6666666666666666, \"#ed7953\"], [0.7777777777777778, \"#fb9f3a\"], [0.8888888888888888, \"#fdca26\"], [1.0, \"#f0f921\"]], \"type\": \"heatmap\"}], \"heatmapgl\": [{\"colorbar\": {\"outlinewidth\": 0, \"ticks\": \"\"}, \"colorscale\": [[0.0, \"#0d0887\"], [0.1111111111111111, \"#46039f\"], [0.2222222222222222, \"#7201a8\"], [0.3333333333333333, \"#9c179e\"], [0.4444444444444444, \"#bd3786\"], [0.5555555555555556, \"#d8576b\"], [0.6666666666666666, \"#ed7953\"], [0.7777777777777778, \"#fb9f3a\"], [0.8888888888888888, \"#fdca26\"], [1.0, \"#f0f921\"]], \"type\": \"heatmapgl\"}], \"histogram\": [{\"marker\": {\"colorbar\": {\"outlinewidth\": 0, \"ticks\": \"\"}}, \"type\": \"histogram\"}], \"histogram2d\": [{\"colorbar\": {\"outlinewidth\": 0, \"ticks\": \"\"}, \"colorscale\": [[0.0, \"#0d0887\"], [0.1111111111111111, \"#46039f\"], [0.2222222222222222, \"#7201a8\"], [0.3333333333333333, \"#9c179e\"], [0.4444444444444444, \"#bd3786\"], [0.5555555555555556, \"#d8576b\"], [0.6666666666666666, \"#ed7953\"], [0.7777777777777778, \"#fb9f3a\"], [0.8888888888888888, \"#fdca26\"], [1.0, \"#f0f921\"]], \"type\": \"histogram2d\"}], \"histogram2dcontour\": [{\"colorbar\": {\"outlinewidth\": 0, \"ticks\": \"\"}, \"colorscale\": [[0.0, \"#0d0887\"], [0.1111111111111111, \"#46039f\"], [0.2222222222222222, \"#7201a8\"], [0.3333333333333333, \"#9c179e\"], [0.4444444444444444, \"#bd3786\"], [0.5555555555555556, \"#d8576b\"], [0.6666666666666666, \"#ed7953\"], [0.7777777777777778, \"#fb9f3a\"], [0.8888888888888888, \"#fdca26\"], [1.0, \"#f0f921\"]], \"type\": \"histogram2dcontour\"}], \"mesh3d\": [{\"colorbar\": {\"outlinewidth\": 0, \"ticks\": \"\"}, \"type\": \"mesh3d\"}], \"parcoords\": [{\"line\": {\"colorbar\": {\"outlinewidth\": 0, \"ticks\": \"\"}}, \"type\": \"parcoords\"}], \"pie\": [{\"automargin\": true, \"type\": \"pie\"}], \"scatter\": [{\"marker\": {\"colorbar\": {\"outlinewidth\": 0, \"ticks\": \"\"}}, \"type\": \"scatter\"}], \"scatter3d\": [{\"line\": {\"colorbar\": {\"outlinewidth\": 0, \"ticks\": \"\"}}, \"marker\": {\"colorbar\": {\"outlinewidth\": 0, \"ticks\": \"\"}}, \"type\": \"scatter3d\"}], \"scattercarpet\": [{\"marker\": {\"colorbar\": {\"outlinewidth\": 0, \"ticks\": \"\"}}, \"type\": \"scattercarpet\"}], \"scattergeo\": [{\"marker\": {\"colorbar\": {\"outlinewidth\": 0, \"ticks\": \"\"}}, \"type\": \"scattergeo\"}], \"scattergl\": [{\"marker\": {\"colorbar\": {\"outlinewidth\": 0, \"ticks\": \"\"}}, \"type\": \"scattergl\"}], \"scattermapbox\": [{\"marker\": {\"colorbar\": {\"outlinewidth\": 0, \"ticks\": \"\"}}, \"type\": \"scattermapbox\"}], \"scatterpolar\": [{\"marker\": {\"colorbar\": {\"outlinewidth\": 0, \"ticks\": \"\"}}, \"type\": \"scatterpolar\"}], \"scatterpolargl\": [{\"marker\": {\"colorbar\": {\"outlinewidth\": 0, \"ticks\": \"\"}}, \"type\": \"scatterpolargl\"}], \"scatterternary\": [{\"marker\": {\"colorbar\": {\"outlinewidth\": 0, \"ticks\": \"\"}}, \"type\": \"scatterternary\"}], \"surface\": [{\"colorbar\": {\"outlinewidth\": 0, \"ticks\": \"\"}, \"colorscale\": [[0.0, \"#0d0887\"], [0.1111111111111111, \"#46039f\"], [0.2222222222222222, \"#7201a8\"], [0.3333333333333333, \"#9c179e\"], [0.4444444444444444, \"#bd3786\"], [0.5555555555555556, \"#d8576b\"], [0.6666666666666666, \"#ed7953\"], [0.7777777777777778, \"#fb9f3a\"], [0.8888888888888888, \"#fdca26\"], [1.0, \"#f0f921\"]], \"type\": \"surface\"}], \"table\": [{\"cells\": {\"fill\": {\"color\": \"#EBF0F8\"}, \"line\": {\"color\": \"white\"}}, \"header\": {\"fill\": {\"color\": \"#C8D4E3\"}, \"line\": {\"color\": \"white\"}}, \"type\": \"table\"}]}, \"layout\": {\"annotationdefaults\": {\"arrowcolor\": \"#2a3f5f\", \"arrowhead\": 0, \"arrowwidth\": 1}, \"coloraxis\": {\"colorbar\": {\"outlinewidth\": 0, \"ticks\": \"\"}}, \"colorscale\": {\"diverging\": [[0, \"#8e0152\"], [0.1, \"#c51b7d\"], [0.2, \"#de77ae\"], [0.3, \"#f1b6da\"], [0.4, \"#fde0ef\"], [0.5, \"#f7f7f7\"], [0.6, \"#e6f5d0\"], [0.7, \"#b8e186\"], [0.8, \"#7fbc41\"], [0.9, \"#4d9221\"], [1, \"#276419\"]], \"sequential\": [[0.0, \"#0d0887\"], [0.1111111111111111, \"#46039f\"], [0.2222222222222222, \"#7201a8\"], [0.3333333333333333, \"#9c179e\"], [0.4444444444444444, \"#bd3786\"], [0.5555555555555556, \"#d8576b\"], [0.6666666666666666, \"#ed7953\"], [0.7777777777777778, \"#fb9f3a\"], [0.8888888888888888, \"#fdca26\"], [1.0, \"#f0f921\"]], \"sequentialminus\": [[0.0, \"#0d0887\"], [0.1111111111111111, \"#46039f\"], [0.2222222222222222, \"#7201a8\"], [0.3333333333333333, \"#9c179e\"], [0.4444444444444444, \"#bd3786\"], [0.5555555555555556, \"#d8576b\"], [0.6666666666666666, \"#ed7953\"], [0.7777777777777778, \"#fb9f3a\"], [0.8888888888888888, \"#fdca26\"], [1.0, \"#f0f921\"]]}, \"colorway\": [\"#636efa\", \"#EF553B\", \"#00cc96\", \"#ab63fa\", \"#FFA15A\", \"#19d3f3\", \"#FF6692\", \"#B6E880\", \"#FF97FF\", \"#FECB52\"], \"font\": {\"color\": \"#2a3f5f\"}, \"geo\": {\"bgcolor\": \"white\", \"lakecolor\": \"white\", \"landcolor\": \"#E5ECF6\", \"showlakes\": true, \"showland\": true, \"subunitcolor\": \"white\"}, \"hoverlabel\": {\"align\": \"left\"}, \"hovermode\": \"closest\", \"mapbox\": {\"style\": \"light\"}, \"paper_bgcolor\": \"white\", \"plot_bgcolor\": \"#E5ECF6\", \"polar\": {\"angularaxis\": {\"gridcolor\": \"white\", \"linecolor\": \"white\", \"ticks\": \"\"}, \"bgcolor\": \"#E5ECF6\", \"radialaxis\": {\"gridcolor\": \"white\", \"linecolor\": \"white\", \"ticks\": \"\"}}, \"scene\": {\"xaxis\": {\"backgroundcolor\": \"#E5ECF6\", \"gridcolor\": \"white\", \"gridwidth\": 2, \"linecolor\": \"white\", \"showbackground\": true, \"ticks\": \"\", \"zerolinecolor\": \"white\"}, \"yaxis\": {\"backgroundcolor\": \"#E5ECF6\", \"gridcolor\": \"white\", \"gridwidth\": 2, \"linecolor\": \"white\", \"showbackground\": true, \"ticks\": \"\", \"zerolinecolor\": \"white\"}, \"zaxis\": {\"backgroundcolor\": \"#E5ECF6\", \"gridcolor\": \"white\", \"gridwidth\": 2, \"linecolor\": \"white\", \"showbackground\": true, \"ticks\": \"\", \"zerolinecolor\": \"white\"}}, \"shapedefaults\": {\"line\": {\"color\": \"#2a3f5f\"}}, \"ternary\": {\"aaxis\": {\"gridcolor\": \"white\", \"linecolor\": \"white\", \"ticks\": \"\"}, \"baxis\": {\"gridcolor\": \"white\", \"linecolor\": \"white\", \"ticks\": \"\"}, \"bgcolor\": \"#E5ECF6\", \"caxis\": {\"gridcolor\": \"white\", \"linecolor\": \"white\", \"ticks\": \"\"}}, \"title\": {\"x\": 0.05}, \"xaxis\": {\"automargin\": true, \"gridcolor\": \"white\", \"linecolor\": \"white\", \"ticks\": \"\", \"title\": {\"standoff\": 15}, \"zerolinecolor\": \"white\", \"zerolinewidth\": 2}, \"yaxis\": {\"automargin\": true, \"gridcolor\": \"white\", \"linecolor\": \"white\", \"ticks\": \"\", \"title\": {\"standoff\": 15}, \"zerolinecolor\": \"white\", \"zerolinewidth\": 2}}}, \"title\": {\"text\": \"countries in the world base (Total doses administered)\", \"x\": 0.5}},\n",
              "                        {\"responsive\": true}\n",
              "                    ).then(function(){\n",
              "                            \n",
              "var gd = document.getElementById('b0ca66d3-3ecb-41d0-9a48-a2e0a8cf5075');\n",
              "var x = new MutationObserver(function (mutations, observer) {{\n",
              "        var display = window.getComputedStyle(gd).display;\n",
              "        if (!display || display === 'none') {{\n",
              "            console.log([gd, 'removed!']);\n",
              "            Plotly.purge(gd);\n",
              "            observer.disconnect();\n",
              "        }}\n",
              "}});\n",
              "\n",
              "// Listen for the removal of the full notebook cells\n",
              "var notebookContainer = gd.closest('#notebook-container');\n",
              "if (notebookContainer) {{\n",
              "    x.observe(notebookContainer, {childList: true});\n",
              "}}\n",
              "\n",
              "// Listen for the clearing of the current output cell\n",
              "var outputEl = gd.closest('.output');\n",
              "if (outputEl) {{\n",
              "    x.observe(outputEl, {childList: true});\n",
              "}}\n",
              "\n",
              "                        })\n",
              "                };\n",
              "                \n",
              "            </script>\n",
              "        </div>\n",
              "</body>\n",
              "</html>"
            ]
          },
          "metadata": {
            "tags": []
          }
        },
        {
          "output_type": "display_data",
          "data": {
            "text/html": [
              "<html>\n",
              "<head><meta charset=\"utf-8\" /></head>\n",
              "<body>\n",
              "    <div>\n",
              "            <script src=\"https://cdnjs.cloudflare.com/ajax/libs/mathjax/2.7.5/MathJax.js?config=TeX-AMS-MML_SVG\"></script><script type=\"text/javascript\">if (window.MathJax) {MathJax.Hub.Config({SVG: {font: \"STIX-Web\"}});}</script>\n",
              "                <script type=\"text/javascript\">window.PlotlyConfig = {MathJaxConfig: 'local'};</script>\n",
              "        <script src=\"https://cdn.plot.ly/plotly-latest.min.js\"></script>    \n",
              "            <div id=\"1bb56ddf-8498-493c-a4f6-39554085ca80\" class=\"plotly-graph-div\" style=\"height:525px; width:100%;\"></div>\n",
              "            <script type=\"text/javascript\">\n",
              "                \n",
              "                    window.PLOTLYENV=window.PLOTLYENV || {};\n",
              "                    \n",
              "                if (document.getElementById(\"1bb56ddf-8498-493c-a4f6-39554085ca80\")) {\n",
              "                    Plotly.newPlot(\n",
              "                        '1bb56ddf-8498-493c-a4f6-39554085ca80',\n",
              "                        [{\"colorbar\": {\"title\": {\"font\": {\"color\": \"DarkBlue\", \"family\": \"Droid Sans\", \"size\": 10}, \"text\": \"Total doses administrated\"}}, \"colorscale\": [[0.0, \"#00224e\"], [0.1111111111111111, \"#123570\"], [0.2222222222222222, \"#3b496c\"], [0.3333333333333333, \"#575d6d\"], [0.4444444444444444, \"#707173\"], [0.5555555555555556, \"#8a8678\"], [0.6666666666666666, \"#a59c74\"], [0.7777777777777778, \"#c3b369\"], [0.8888888888888888, \"#e1cc55\"], [1.0, \"#fee838\"]], \"locationmode\": \"country names\", \"locations\": [\"Malta\", \"Bahrain\", \"Aruba\", \"Israel\", \"Chile\", \"U.K.\", \"Mongolia\", \"Uruguay\", \"Qatar\", \"Iceland\", \"Cura\\u00e7ao\", \"Hungary\", \"United States\", \"Canada\", \"Maldives\", \"Singapore\", \"Belgium\", \"Netherlands\", \"Germany\", \"Mainland China\", \"Luxembourg\", \"Spain\", \"Austria\", \"Italy\", \"Switzerland\", \"Portugal\", \"Lithuania\", \"France\", \"Greece\", \"Finland\", \"Czech Republic\", \"Poland\", \"Norway\", \"Sweden\", \"Ireland\", \"Serbia\", \"Kuwait\", \"Estonia\", \"Dominican Rep.\", \"Slovenia\", \"Slovakia\", \"Cyprus\", \"Bhutan\", \"Croatia\", \"Turkey\", \"Latvia\", \"Barbados\", \"Mauritius\", \"Macau\", \"Morocco\", \"Cuba\", \"Hong Kong\", \"Costa Rica\", \"French Polynesia\", \"Brazil\", \"Montenegro\", \"Romania\", \"Argentina\", \"Cambodia\", \"Guyana\", \"El Salvador\", \"New Caledonia\", \"South Korea\", \"Fiji\", \"Panama\", \"Jordan\", \"Colombia\", \"Mexico\", \"Japan\", \"Azerbaijan\", \"Suriname\", \"Albania\", \"Australia\", \"Saint Lucia\", \"Tonga\", \"Grenada\", \"Kazakhstan\", \"Samoa\", \"Russia\", \"Belize\", \"Moldova\", \"North Macedonia\", \"Bulgaria\", \"Malaysia\", \"India\", \"Ecuador\", \"New Zealand\", \"Peru\", \"Oman\", \"Bolivia\", \"Trinidad and Tobago\", \"Bahamas\", \"Laos\", \"Equatorial Guinea\", \"Lebanon\", \"West Bank & Gaza\", \"Brunei\", \"Sri Lanka\", \"Indonesia\", \"Tunisia\", \"Cape Verde\", \"Timor-Leste\", \"Bosnia and Herzegovina\", \"Thailand\", \"S\\u00e3o Tom\\u00e9 and Pr\\u00edncipe\", \"Nepal\", \"Belarus\", \"Comoros\", \"Georgia\", \"Botswana\", \"Philippines\", \"Zimbabwe\", \"Paraguay\", \"Jamaica\", \"Taiwan\", \"Uzbekistan\", \"Honduras\", \"Pakistan\", \"Bangladesh\", \"Iran\", \"Ukraine\", \"Algeria\", \"Namibia\", \"Guatemala\", \"Libya\", \"Venezuela\", \"South Africa\", \"Angola\", \"Rwanda\", \"Togo\", \"Egypt\", \"Guinea\", \"Eswatini\", \"Senegal\", \"Ghana\", \"Vietnam\", \"Solomon Islands\", \"Mauritania\", \"Ivory Coast\", \"Djibouti\", \"Kyrgyzstan\", \"Kenya\", \"Vanuatu\", \"Malawi\", \"Gabon\", \"Afghanistan\", \"Armenia\", \"Iraq\", \"Uganda\", \"Republic of the Congo\", \"Ethiopia\", \"Gambia\", \"Nigeria\", \"Liberia\", \"Central African Republic\", \"Sudan\", \"Mozambique\", \"Tajikistan\", \"Somalia\", \"Sierra Leone\", \"Guinea-Bissau\", \"Niger\", \"Yemen\", \"Mali\", \"Zambia\", \"Madagascar\", \"Syria\", \"Papua New Guinea\", \"Cameroon\", \"South Sudan\", \"Benin\", \"Burkina Faso\", \"Congo\", \"Chad\"], \"marker\": {\"line\": {\"color\": \"LightGray\", \"width\": 0.1}}, \"reversescale\": true, \"type\": \"choropleth\", \"z\": [71.0, 64.0, 64.0, 62.0, 66.0, 67.0, 61.0, 65.0, 60.0, 72.0, 56.0, 56.0, 54.0, 68.0, 60.0, 57.0, 61.0, 58.0, 55.0, 45.0, 54.0, 53.0, 53.0, 56.0, 50.0, 54.0, 44.0, 50.0, 45.0, 58.0, 47.0, 44.0, 47.0, 46.0, 48.0, 39.0, 68.0, 42.0, 45.0, 39.0, 37.0, 38.0, 64.0, 36.0, 41.0, 34.0, 33.0, 38.0, 37.0, 27.0, 24.0, 30.0, 32.0, 26.0, 34.0, 24.0, 24.0, 36.0, 25.0, 29.0, 25.0, 21.0, 30.0, 31.0, 24.0, 23.0, 22.0, 24.0, 23.0, 22.0, 27.0, 19.0, 24.0, 17.0, 27.0, 17.0, 18.0, 25.0, 15.0, 20.0, 17.0, 15.0, 14.0, 18.0, 20.0, 16.0, 14.0, 13.0, 17.0, 16.0, 15.0, 14.0, 12.0, 11.0, 13.0, 10.0, 15.0, 12.0, 11.0, 11.0, 14.0, 13.0, 9.1, 9.7, 7.7, 9.1, 7.4, 5.1, 6.9, 6.7, 7.1, 5.2, 6.9, 5.9, 8.3, 4.8, 6.4, 5.0, 3.6, 4.8, 4.4, 5.8, 4.7, 4.6, 5.5, 4.3, 5.0, 3.0, 2.8, 3.4, 3.5, 3.0, 3.2, 3.2, 2.8, 3.5, 2.7, 3.0, 2.9, 1.3, 1.5, 1.9, 2.5, 2.1, 1.7, 1.7, 1.8, 1.4, 1.9, 1.9, 1.7, 1.3, 1.1, 1.6, 1.6, 1.3, 1.1, 1.2, 0.9, 1.1, 1.1, 1.0, 0.9, 0.7, 0.8, 0.7, 0.6, 0.5, 0.3, 0.4, 0.3, 0.1, 0.1, 0.1]}],\n",
              "                        {\"template\": {\"data\": {\"bar\": [{\"error_x\": {\"color\": \"#2a3f5f\"}, \"error_y\": {\"color\": \"#2a3f5f\"}, \"marker\": {\"line\": {\"color\": \"#E5ECF6\", \"width\": 0.5}}, \"type\": \"bar\"}], \"barpolar\": [{\"marker\": {\"line\": {\"color\": \"#E5ECF6\", \"width\": 0.5}}, \"type\": \"barpolar\"}], \"carpet\": [{\"aaxis\": {\"endlinecolor\": \"#2a3f5f\", \"gridcolor\": \"white\", \"linecolor\": \"white\", \"minorgridcolor\": \"white\", \"startlinecolor\": \"#2a3f5f\"}, \"baxis\": {\"endlinecolor\": \"#2a3f5f\", \"gridcolor\": \"white\", \"linecolor\": \"white\", \"minorgridcolor\": \"white\", \"startlinecolor\": \"#2a3f5f\"}, \"type\": \"carpet\"}], \"choropleth\": [{\"colorbar\": {\"outlinewidth\": 0, \"ticks\": \"\"}, \"type\": \"choropleth\"}], \"contour\": [{\"colorbar\": {\"outlinewidth\": 0, \"ticks\": \"\"}, \"colorscale\": [[0.0, \"#0d0887\"], [0.1111111111111111, \"#46039f\"], [0.2222222222222222, \"#7201a8\"], [0.3333333333333333, \"#9c179e\"], [0.4444444444444444, \"#bd3786\"], [0.5555555555555556, \"#d8576b\"], [0.6666666666666666, \"#ed7953\"], [0.7777777777777778, \"#fb9f3a\"], [0.8888888888888888, \"#fdca26\"], [1.0, \"#f0f921\"]], \"type\": \"contour\"}], \"contourcarpet\": [{\"colorbar\": {\"outlinewidth\": 0, \"ticks\": \"\"}, \"type\": \"contourcarpet\"}], \"heatmap\": [{\"colorbar\": {\"outlinewidth\": 0, \"ticks\": \"\"}, \"colorscale\": [[0.0, \"#0d0887\"], [0.1111111111111111, \"#46039f\"], [0.2222222222222222, \"#7201a8\"], [0.3333333333333333, \"#9c179e\"], [0.4444444444444444, \"#bd3786\"], [0.5555555555555556, \"#d8576b\"], [0.6666666666666666, \"#ed7953\"], [0.7777777777777778, \"#fb9f3a\"], [0.8888888888888888, \"#fdca26\"], [1.0, \"#f0f921\"]], \"type\": \"heatmap\"}], \"heatmapgl\": [{\"colorbar\": {\"outlinewidth\": 0, \"ticks\": \"\"}, \"colorscale\": [[0.0, \"#0d0887\"], [0.1111111111111111, \"#46039f\"], [0.2222222222222222, \"#7201a8\"], [0.3333333333333333, \"#9c179e\"], [0.4444444444444444, \"#bd3786\"], [0.5555555555555556, \"#d8576b\"], [0.6666666666666666, \"#ed7953\"], [0.7777777777777778, \"#fb9f3a\"], [0.8888888888888888, \"#fdca26\"], [1.0, \"#f0f921\"]], \"type\": \"heatmapgl\"}], \"histogram\": [{\"marker\": {\"colorbar\": {\"outlinewidth\": 0, \"ticks\": \"\"}}, \"type\": \"histogram\"}], \"histogram2d\": [{\"colorbar\": {\"outlinewidth\": 0, \"ticks\": \"\"}, \"colorscale\": [[0.0, \"#0d0887\"], [0.1111111111111111, \"#46039f\"], [0.2222222222222222, \"#7201a8\"], [0.3333333333333333, \"#9c179e\"], [0.4444444444444444, \"#bd3786\"], [0.5555555555555556, \"#d8576b\"], [0.6666666666666666, \"#ed7953\"], [0.7777777777777778, \"#fb9f3a\"], [0.8888888888888888, \"#fdca26\"], [1.0, \"#f0f921\"]], \"type\": \"histogram2d\"}], \"histogram2dcontour\": [{\"colorbar\": {\"outlinewidth\": 0, \"ticks\": \"\"}, \"colorscale\": [[0.0, \"#0d0887\"], [0.1111111111111111, \"#46039f\"], [0.2222222222222222, \"#7201a8\"], [0.3333333333333333, \"#9c179e\"], [0.4444444444444444, \"#bd3786\"], [0.5555555555555556, \"#d8576b\"], [0.6666666666666666, \"#ed7953\"], [0.7777777777777778, \"#fb9f3a\"], [0.8888888888888888, \"#fdca26\"], [1.0, \"#f0f921\"]], \"type\": \"histogram2dcontour\"}], \"mesh3d\": [{\"colorbar\": {\"outlinewidth\": 0, \"ticks\": \"\"}, \"type\": \"mesh3d\"}], \"parcoords\": [{\"line\": {\"colorbar\": {\"outlinewidth\": 0, \"ticks\": \"\"}}, \"type\": \"parcoords\"}], \"pie\": [{\"automargin\": true, \"type\": \"pie\"}], \"scatter\": [{\"marker\": {\"colorbar\": {\"outlinewidth\": 0, \"ticks\": \"\"}}, \"type\": \"scatter\"}], \"scatter3d\": [{\"line\": {\"colorbar\": {\"outlinewidth\": 0, \"ticks\": \"\"}}, \"marker\": {\"colorbar\": {\"outlinewidth\": 0, \"ticks\": \"\"}}, \"type\": \"scatter3d\"}], \"scattercarpet\": [{\"marker\": {\"colorbar\": {\"outlinewidth\": 0, \"ticks\": \"\"}}, \"type\": \"scattercarpet\"}], \"scattergeo\": [{\"marker\": {\"colorbar\": {\"outlinewidth\": 0, \"ticks\": \"\"}}, \"type\": \"scattergeo\"}], \"scattergl\": [{\"marker\": {\"colorbar\": {\"outlinewidth\": 0, \"ticks\": \"\"}}, \"type\": \"scattergl\"}], \"scattermapbox\": [{\"marker\": {\"colorbar\": {\"outlinewidth\": 0, \"ticks\": \"\"}}, \"type\": \"scattermapbox\"}], \"scatterpolar\": [{\"marker\": {\"colorbar\": {\"outlinewidth\": 0, \"ticks\": \"\"}}, \"type\": \"scatterpolar\"}], \"scatterpolargl\": [{\"marker\": {\"colorbar\": {\"outlinewidth\": 0, \"ticks\": \"\"}}, \"type\": \"scatterpolargl\"}], \"scatterternary\": [{\"marker\": {\"colorbar\": {\"outlinewidth\": 0, \"ticks\": \"\"}}, \"type\": \"scatterternary\"}], \"surface\": [{\"colorbar\": {\"outlinewidth\": 0, \"ticks\": \"\"}, \"colorscale\": [[0.0, \"#0d0887\"], [0.1111111111111111, \"#46039f\"], [0.2222222222222222, \"#7201a8\"], [0.3333333333333333, \"#9c179e\"], [0.4444444444444444, \"#bd3786\"], [0.5555555555555556, \"#d8576b\"], [0.6666666666666666, \"#ed7953\"], [0.7777777777777778, \"#fb9f3a\"], [0.8888888888888888, \"#fdca26\"], [1.0, \"#f0f921\"]], \"type\": \"surface\"}], \"table\": [{\"cells\": {\"fill\": {\"color\": \"#EBF0F8\"}, \"line\": {\"color\": \"white\"}}, \"header\": {\"fill\": {\"color\": \"#C8D4E3\"}, \"line\": {\"color\": \"white\"}}, \"type\": \"table\"}]}, \"layout\": {\"annotationdefaults\": {\"arrowcolor\": \"#2a3f5f\", \"arrowhead\": 0, \"arrowwidth\": 1}, \"coloraxis\": {\"colorbar\": {\"outlinewidth\": 0, \"ticks\": \"\"}}, \"colorscale\": {\"diverging\": [[0, \"#8e0152\"], [0.1, \"#c51b7d\"], [0.2, \"#de77ae\"], [0.3, \"#f1b6da\"], [0.4, \"#fde0ef\"], [0.5, \"#f7f7f7\"], [0.6, \"#e6f5d0\"], [0.7, \"#b8e186\"], [0.8, \"#7fbc41\"], [0.9, \"#4d9221\"], [1, \"#276419\"]], \"sequential\": [[0.0, \"#0d0887\"], [0.1111111111111111, \"#46039f\"], [0.2222222222222222, \"#7201a8\"], [0.3333333333333333, \"#9c179e\"], [0.4444444444444444, \"#bd3786\"], [0.5555555555555556, \"#d8576b\"], [0.6666666666666666, \"#ed7953\"], [0.7777777777777778, \"#fb9f3a\"], [0.8888888888888888, \"#fdca26\"], [1.0, \"#f0f921\"]], \"sequentialminus\": [[0.0, \"#0d0887\"], [0.1111111111111111, \"#46039f\"], [0.2222222222222222, \"#7201a8\"], [0.3333333333333333, \"#9c179e\"], [0.4444444444444444, \"#bd3786\"], [0.5555555555555556, \"#d8576b\"], [0.6666666666666666, \"#ed7953\"], [0.7777777777777778, \"#fb9f3a\"], [0.8888888888888888, \"#fdca26\"], [1.0, \"#f0f921\"]]}, \"colorway\": [\"#636efa\", \"#EF553B\", \"#00cc96\", \"#ab63fa\", \"#FFA15A\", \"#19d3f3\", \"#FF6692\", \"#B6E880\", \"#FF97FF\", \"#FECB52\"], \"font\": {\"color\": \"#2a3f5f\"}, \"geo\": {\"bgcolor\": \"white\", \"lakecolor\": \"white\", \"landcolor\": \"#E5ECF6\", \"showlakes\": true, \"showland\": true, \"subunitcolor\": \"white\"}, \"hoverlabel\": {\"align\": \"left\"}, \"hovermode\": \"closest\", \"mapbox\": {\"style\": \"light\"}, \"paper_bgcolor\": \"white\", \"plot_bgcolor\": \"#E5ECF6\", \"polar\": {\"angularaxis\": {\"gridcolor\": \"white\", \"linecolor\": \"white\", \"ticks\": \"\"}, \"bgcolor\": \"#E5ECF6\", \"radialaxis\": {\"gridcolor\": \"white\", \"linecolor\": \"white\", \"ticks\": \"\"}}, \"scene\": {\"xaxis\": {\"backgroundcolor\": \"#E5ECF6\", \"gridcolor\": \"white\", \"gridwidth\": 2, \"linecolor\": \"white\", \"showbackground\": true, \"ticks\": \"\", \"zerolinecolor\": \"white\"}, \"yaxis\": {\"backgroundcolor\": \"#E5ECF6\", \"gridcolor\": \"white\", \"gridwidth\": 2, \"linecolor\": \"white\", \"showbackground\": true, \"ticks\": \"\", \"zerolinecolor\": \"white\"}, \"zaxis\": {\"backgroundcolor\": \"#E5ECF6\", \"gridcolor\": \"white\", \"gridwidth\": 2, \"linecolor\": \"white\", \"showbackground\": true, \"ticks\": \"\", \"zerolinecolor\": \"white\"}}, \"shapedefaults\": {\"line\": {\"color\": \"#2a3f5f\"}}, \"ternary\": {\"aaxis\": {\"gridcolor\": \"white\", \"linecolor\": \"white\", \"ticks\": \"\"}, \"baxis\": {\"gridcolor\": \"white\", \"linecolor\": \"white\", \"ticks\": \"\"}, \"bgcolor\": \"#E5ECF6\", \"caxis\": {\"gridcolor\": \"white\", \"linecolor\": \"white\", \"ticks\": \"\"}}, \"title\": {\"x\": 0.05}, \"xaxis\": {\"automargin\": true, \"gridcolor\": \"white\", \"linecolor\": \"white\", \"ticks\": \"\", \"title\": {\"standoff\": 15}, \"zerolinecolor\": \"white\", \"zerolinewidth\": 2}, \"yaxis\": {\"automargin\": true, \"gridcolor\": \"white\", \"linecolor\": \"white\", \"ticks\": \"\", \"title\": {\"standoff\": 15}, \"zerolinecolor\": \"white\", \"zerolinewidth\": 2}}}, \"title\": {\"text\": \"countries in the world base (% of population vaccinated)\", \"x\": 0.5}},\n",
              "                        {\"responsive\": true}\n",
              "                    ).then(function(){\n",
              "                            \n",
              "var gd = document.getElementById('1bb56ddf-8498-493c-a4f6-39554085ca80');\n",
              "var x = new MutationObserver(function (mutations, observer) {{\n",
              "        var display = window.getComputedStyle(gd).display;\n",
              "        if (!display || display === 'none') {{\n",
              "            console.log([gd, 'removed!']);\n",
              "            Plotly.purge(gd);\n",
              "            observer.disconnect();\n",
              "        }}\n",
              "}});\n",
              "\n",
              "// Listen for the removal of the full notebook cells\n",
              "var notebookContainer = gd.closest('#notebook-container');\n",
              "if (notebookContainer) {{\n",
              "    x.observe(notebookContainer, {childList: true});\n",
              "}}\n",
              "\n",
              "// Listen for the clearing of the current output cell\n",
              "var outputEl = gd.closest('.output');\n",
              "if (outputEl) {{\n",
              "    x.observe(outputEl, {childList: true});\n",
              "}}\n",
              "\n",
              "                        })\n",
              "                };\n",
              "                \n",
              "            </script>\n",
              "        </div>\n",
              "</body>\n",
              "</html>"
            ]
          },
          "metadata": {
            "tags": []
          }
        },
        {
          "output_type": "display_data",
          "data": {
            "text/html": [
              "<html>\n",
              "<head><meta charset=\"utf-8\" /></head>\n",
              "<body>\n",
              "    <div>\n",
              "            <script src=\"https://cdnjs.cloudflare.com/ajax/libs/mathjax/2.7.5/MathJax.js?config=TeX-AMS-MML_SVG\"></script><script type=\"text/javascript\">if (window.MathJax) {MathJax.Hub.Config({SVG: {font: \"STIX-Web\"}});}</script>\n",
              "                <script type=\"text/javascript\">window.PlotlyConfig = {MathJaxConfig: 'local'};</script>\n",
              "        <script src=\"https://cdn.plot.ly/plotly-latest.min.js\"></script>    \n",
              "            <div id=\"692e2f40-5bdd-45f5-b99f-a85c35460f86\" class=\"plotly-graph-div\" style=\"height:525px; width:100%;\"></div>\n",
              "            <script type=\"text/javascript\">\n",
              "                \n",
              "                    window.PLOTLYENV=window.PLOTLYENV || {};\n",
              "                    \n",
              "                if (document.getElementById(\"692e2f40-5bdd-45f5-b99f-a85c35460f86\")) {\n",
              "                    Plotly.newPlot(\n",
              "                        '692e2f40-5bdd-45f5-b99f-a85c35460f86',\n",
              "                        [{\"colorbar\": {\"title\": {\"font\": {\"color\": \"DarkBlue\", \"family\": \"Droid Sans\", \"size\": 10}, \"text\": \"Total doses administrated\"}}, \"colorscale\": [[0.0, \"#00224e\"], [0.1111111111111111, \"#123570\"], [0.2222222222222222, \"#3b496c\"], [0.3333333333333333, \"#575d6d\"], [0.4444444444444444, \"#707173\"], [0.5555555555555556, \"#8a8678\"], [0.6666666666666666, \"#a59c74\"], [0.7777777777777778, \"#c3b369\"], [0.8888888888888888, \"#e1cc55\"], [1.0, \"#fee838\"]], \"locationmode\": \"country names\", \"locations\": [\"Malta\", \"Bahrain\", \"Aruba\", \"Israel\", \"Chile\", \"U.K.\", \"Mongolia\", \"Uruguay\", \"Qatar\", \"Iceland\", \"Cura\\u00e7ao\", \"Hungary\", \"United States\", \"Canada\", \"Maldives\", \"Singapore\", \"Belgium\", \"Netherlands\", \"Germany\", \"Mainland China\", \"Luxembourg\", \"Spain\", \"Austria\", \"Italy\", \"Switzerland\", \"Portugal\", \"Lithuania\", \"France\", \"Greece\", \"Finland\", \"Czech Republic\", \"Poland\", \"Norway\", \"Sweden\", \"Ireland\", \"Serbia\", \"Kuwait\", \"Estonia\", \"Dominican Rep.\", \"Slovenia\", \"Slovakia\", \"Cyprus\", \"Bhutan\", \"Croatia\", \"Turkey\", \"Latvia\", \"Barbados\", \"Mauritius\", \"Macau\", \"Morocco\", \"Cuba\", \"Hong Kong\", \"Costa Rica\", \"French Polynesia\", \"Brazil\", \"Montenegro\", \"Romania\", \"Argentina\", \"Cambodia\", \"Guyana\", \"El Salvador\", \"New Caledonia\", \"South Korea\", \"Fiji\", \"Panama\", \"Jordan\", \"Colombia\", \"Mexico\", \"Japan\", \"Azerbaijan\", \"Suriname\", \"Albania\", \"Australia\", \"Saint Lucia\", \"Tonga\", \"Grenada\", \"Kazakhstan\", \"Samoa\", \"Russia\", \"Belize\", \"Moldova\", \"North Macedonia\", \"Bulgaria\", \"Malaysia\", \"India\", \"Ecuador\", \"New Zealand\", \"Peru\", \"Oman\", \"Bolivia\", \"Trinidad and Tobago\", \"Bahamas\", \"Laos\", \"Equatorial Guinea\", \"Lebanon\", \"West Bank & Gaza\", \"Brunei\", \"Sri Lanka\", \"Indonesia\", \"Tunisia\", \"Cape Verde\", \"Timor-Leste\", \"Bosnia and Herzegovina\", \"Thailand\", \"S\\u00e3o Tom\\u00e9 and Pr\\u00edncipe\", \"Nepal\", \"Belarus\", \"Comoros\", \"Georgia\", \"Botswana\", \"Philippines\", \"Zimbabwe\", \"Paraguay\", \"Jamaica\", \"Taiwan\", \"Uzbekistan\", \"Honduras\", \"Pakistan\", \"Bangladesh\", \"Iran\", \"Ukraine\", \"Algeria\", \"Namibia\", \"Guatemala\", \"Libya\", \"Venezuela\", \"South Africa\", \"Angola\", \"Rwanda\", \"Togo\", \"Egypt\", \"Guinea\", \"Eswatini\", \"Senegal\", \"Ghana\", \"Vietnam\", \"Solomon Islands\", \"Mauritania\", \"Ivory Coast\", \"Djibouti\", \"Kyrgyzstan\", \"Kenya\", \"Vanuatu\", \"Malawi\", \"Gabon\", \"Afghanistan\", \"Armenia\", \"Iraq\", \"Uganda\", \"Republic of the Congo\", \"Ethiopia\", \"Gambia\", \"Nigeria\", \"Liberia\", \"Central African Republic\", \"Sudan\", \"Mozambique\", \"Tajikistan\", \"Somalia\", \"Sierra Leone\", \"Guinea-Bissau\", \"Niger\", \"Yemen\", \"Mali\", \"Zambia\", \"Madagascar\", \"Syria\", \"Papua New Guinea\", \"Cameroon\", \"South Sudan\", \"Benin\", \"Burkina Faso\", \"Congo\", \"Chad\"], \"marker\": {\"line\": {\"color\": \"LightGray\", \"width\": 0.1}}, \"reversescale\": true, \"type\": \"choropleth\", \"z\": [63.0, 60.0, 55.0, 57.0, 55.0, 49.0, 54.0, 47.0, 50.0, 50.0, 50.0, 50.0, 46.0, 30.0, 36.0, 37.0, 34.0, 35.0, 37.0, 16.0, 32.0, 36.0, 34.0, 31.0, 34.0, 33.0, 37.0, 30.0, 35.0, 18.0, 30.0, 34.0, 29.0, 29.0, 20.0, 35.0, 29.0, 29.0, 26.0, 32.0, 29.0, 27.0, 26.0, 26.0, 18.0, 28.0, 24.0, 17.0, 16.0, 25.0, 9.0, 20.0, 16.0, 22.0, 12.0, 22.0, 23.0, 8.9, 18.0, 13.0, 17.0, 18.0, 9.5, 5.0, 12.0, 12.0, 13.0, 15.0, 12.0, 12.0, 6.0, 14.0, 5.8, 12.0, 1.3, 11.0, 11.0, 2.6, 12.0, 6.7, 10.0, 11.0, 11.0, 6.9, 4.2, 7.7, 9.0, 9.0, 4.3, 5.8, 5.7, 6.4, 7.4, 8.4, 6.2, 7.5, 3.0, 4.3, 4.9, 4.6, 1.1, 1.8, 4.7, 3.9, 5.4, 2.6, 3.9, 4.8, 2.6, 2.9, 2.4, 3.7, 1.9, 2.6, 0.2, 3.0, 0.6, 1.6, 2.6, 1.2, 1.5, 0.9, 0.9, 1.0, 0.8, 0.8, 0.8, 1.7, 1.8, 0.9, 0.8, 1.2, 0.9, 0.9, 1.3, 0.2, 0.6, 0.2, 0.9, 0.9, 1.1, 0.6, 0.2, 0.2, 0.5, 0.5, 0.4, 0.7, 0.4, 0.4, 0.4, 0.4, 0.6, 0.1, 0.3, 0.3, 0.3, 0.2, 0.4, 0.2, 0.1, 0.1, 0.2, 0.2, 0.1, 0.0, 0.0, 0.1, 0.1, 0.0, 0.1, 0.0, 0.0, 0.0]}],\n",
              "                        {\"template\": {\"data\": {\"bar\": [{\"error_x\": {\"color\": \"#2a3f5f\"}, \"error_y\": {\"color\": \"#2a3f5f\"}, \"marker\": {\"line\": {\"color\": \"#E5ECF6\", \"width\": 0.5}}, \"type\": \"bar\"}], \"barpolar\": [{\"marker\": {\"line\": {\"color\": \"#E5ECF6\", \"width\": 0.5}}, \"type\": \"barpolar\"}], \"carpet\": [{\"aaxis\": {\"endlinecolor\": \"#2a3f5f\", \"gridcolor\": \"white\", \"linecolor\": \"white\", \"minorgridcolor\": \"white\", \"startlinecolor\": \"#2a3f5f\"}, \"baxis\": {\"endlinecolor\": \"#2a3f5f\", \"gridcolor\": \"white\", \"linecolor\": \"white\", \"minorgridcolor\": \"white\", \"startlinecolor\": \"#2a3f5f\"}, \"type\": \"carpet\"}], \"choropleth\": [{\"colorbar\": {\"outlinewidth\": 0, \"ticks\": \"\"}, \"type\": \"choropleth\"}], \"contour\": [{\"colorbar\": {\"outlinewidth\": 0, \"ticks\": \"\"}, \"colorscale\": [[0.0, \"#0d0887\"], [0.1111111111111111, \"#46039f\"], [0.2222222222222222, \"#7201a8\"], [0.3333333333333333, \"#9c179e\"], [0.4444444444444444, \"#bd3786\"], [0.5555555555555556, \"#d8576b\"], [0.6666666666666666, \"#ed7953\"], [0.7777777777777778, \"#fb9f3a\"], [0.8888888888888888, \"#fdca26\"], [1.0, \"#f0f921\"]], \"type\": \"contour\"}], \"contourcarpet\": [{\"colorbar\": {\"outlinewidth\": 0, \"ticks\": \"\"}, \"type\": \"contourcarpet\"}], \"heatmap\": [{\"colorbar\": {\"outlinewidth\": 0, \"ticks\": \"\"}, \"colorscale\": [[0.0, \"#0d0887\"], [0.1111111111111111, \"#46039f\"], [0.2222222222222222, \"#7201a8\"], [0.3333333333333333, \"#9c179e\"], [0.4444444444444444, \"#bd3786\"], [0.5555555555555556, \"#d8576b\"], [0.6666666666666666, \"#ed7953\"], [0.7777777777777778, \"#fb9f3a\"], [0.8888888888888888, \"#fdca26\"], [1.0, \"#f0f921\"]], \"type\": \"heatmap\"}], \"heatmapgl\": [{\"colorbar\": {\"outlinewidth\": 0, \"ticks\": \"\"}, \"colorscale\": [[0.0, \"#0d0887\"], [0.1111111111111111, \"#46039f\"], [0.2222222222222222, \"#7201a8\"], [0.3333333333333333, \"#9c179e\"], [0.4444444444444444, \"#bd3786\"], [0.5555555555555556, \"#d8576b\"], [0.6666666666666666, \"#ed7953\"], [0.7777777777777778, \"#fb9f3a\"], [0.8888888888888888, \"#fdca26\"], [1.0, \"#f0f921\"]], \"type\": \"heatmapgl\"}], \"histogram\": [{\"marker\": {\"colorbar\": {\"outlinewidth\": 0, \"ticks\": \"\"}}, \"type\": \"histogram\"}], \"histogram2d\": [{\"colorbar\": {\"outlinewidth\": 0, \"ticks\": \"\"}, \"colorscale\": [[0.0, \"#0d0887\"], [0.1111111111111111, \"#46039f\"], [0.2222222222222222, \"#7201a8\"], [0.3333333333333333, \"#9c179e\"], [0.4444444444444444, \"#bd3786\"], [0.5555555555555556, \"#d8576b\"], [0.6666666666666666, \"#ed7953\"], [0.7777777777777778, \"#fb9f3a\"], [0.8888888888888888, \"#fdca26\"], [1.0, \"#f0f921\"]], \"type\": \"histogram2d\"}], \"histogram2dcontour\": [{\"colorbar\": {\"outlinewidth\": 0, \"ticks\": \"\"}, \"colorscale\": [[0.0, \"#0d0887\"], [0.1111111111111111, \"#46039f\"], [0.2222222222222222, \"#7201a8\"], [0.3333333333333333, \"#9c179e\"], [0.4444444444444444, \"#bd3786\"], [0.5555555555555556, \"#d8576b\"], [0.6666666666666666, \"#ed7953\"], [0.7777777777777778, \"#fb9f3a\"], [0.8888888888888888, \"#fdca26\"], [1.0, \"#f0f921\"]], \"type\": \"histogram2dcontour\"}], \"mesh3d\": [{\"colorbar\": {\"outlinewidth\": 0, \"ticks\": \"\"}, \"type\": \"mesh3d\"}], \"parcoords\": [{\"line\": {\"colorbar\": {\"outlinewidth\": 0, \"ticks\": \"\"}}, \"type\": \"parcoords\"}], \"pie\": [{\"automargin\": true, \"type\": \"pie\"}], \"scatter\": [{\"marker\": {\"colorbar\": {\"outlinewidth\": 0, \"ticks\": \"\"}}, \"type\": \"scatter\"}], \"scatter3d\": [{\"line\": {\"colorbar\": {\"outlinewidth\": 0, \"ticks\": \"\"}}, \"marker\": {\"colorbar\": {\"outlinewidth\": 0, \"ticks\": \"\"}}, \"type\": \"scatter3d\"}], \"scattercarpet\": [{\"marker\": {\"colorbar\": {\"outlinewidth\": 0, \"ticks\": \"\"}}, \"type\": \"scattercarpet\"}], \"scattergeo\": [{\"marker\": {\"colorbar\": {\"outlinewidth\": 0, \"ticks\": \"\"}}, \"type\": \"scattergeo\"}], \"scattergl\": [{\"marker\": {\"colorbar\": {\"outlinewidth\": 0, \"ticks\": \"\"}}, \"type\": \"scattergl\"}], \"scattermapbox\": [{\"marker\": {\"colorbar\": {\"outlinewidth\": 0, \"ticks\": \"\"}}, \"type\": \"scattermapbox\"}], \"scatterpolar\": [{\"marker\": {\"colorbar\": {\"outlinewidth\": 0, \"ticks\": \"\"}}, \"type\": \"scatterpolar\"}], \"scatterpolargl\": [{\"marker\": {\"colorbar\": {\"outlinewidth\": 0, \"ticks\": \"\"}}, \"type\": \"scatterpolargl\"}], \"scatterternary\": [{\"marker\": {\"colorbar\": {\"outlinewidth\": 0, \"ticks\": \"\"}}, \"type\": \"scatterternary\"}], \"surface\": [{\"colorbar\": {\"outlinewidth\": 0, \"ticks\": \"\"}, \"colorscale\": [[0.0, \"#0d0887\"], [0.1111111111111111, \"#46039f\"], [0.2222222222222222, \"#7201a8\"], [0.3333333333333333, \"#9c179e\"], [0.4444444444444444, \"#bd3786\"], [0.5555555555555556, \"#d8576b\"], [0.6666666666666666, \"#ed7953\"], [0.7777777777777778, \"#fb9f3a\"], [0.8888888888888888, \"#fdca26\"], [1.0, \"#f0f921\"]], \"type\": \"surface\"}], \"table\": [{\"cells\": {\"fill\": {\"color\": \"#EBF0F8\"}, \"line\": {\"color\": \"white\"}}, \"header\": {\"fill\": {\"color\": \"#C8D4E3\"}, \"line\": {\"color\": \"white\"}}, \"type\": \"table\"}]}, \"layout\": {\"annotationdefaults\": {\"arrowcolor\": \"#2a3f5f\", \"arrowhead\": 0, \"arrowwidth\": 1}, \"coloraxis\": {\"colorbar\": {\"outlinewidth\": 0, \"ticks\": \"\"}}, \"colorscale\": {\"diverging\": [[0, \"#8e0152\"], [0.1, \"#c51b7d\"], [0.2, \"#de77ae\"], [0.3, \"#f1b6da\"], [0.4, \"#fde0ef\"], [0.5, \"#f7f7f7\"], [0.6, \"#e6f5d0\"], [0.7, \"#b8e186\"], [0.8, \"#7fbc41\"], [0.9, \"#4d9221\"], [1, \"#276419\"]], \"sequential\": [[0.0, \"#0d0887\"], [0.1111111111111111, \"#46039f\"], [0.2222222222222222, \"#7201a8\"], [0.3333333333333333, \"#9c179e\"], [0.4444444444444444, \"#bd3786\"], [0.5555555555555556, \"#d8576b\"], [0.6666666666666666, \"#ed7953\"], [0.7777777777777778, \"#fb9f3a\"], [0.8888888888888888, \"#fdca26\"], [1.0, \"#f0f921\"]], \"sequentialminus\": [[0.0, \"#0d0887\"], [0.1111111111111111, \"#46039f\"], [0.2222222222222222, \"#7201a8\"], [0.3333333333333333, \"#9c179e\"], [0.4444444444444444, \"#bd3786\"], [0.5555555555555556, \"#d8576b\"], [0.6666666666666666, \"#ed7953\"], [0.7777777777777778, \"#fb9f3a\"], [0.8888888888888888, \"#fdca26\"], [1.0, \"#f0f921\"]]}, \"colorway\": [\"#636efa\", \"#EF553B\", \"#00cc96\", \"#ab63fa\", \"#FFA15A\", \"#19d3f3\", \"#FF6692\", \"#B6E880\", \"#FF97FF\", \"#FECB52\"], \"font\": {\"color\": \"#2a3f5f\"}, \"geo\": {\"bgcolor\": \"white\", \"lakecolor\": \"white\", \"landcolor\": \"#E5ECF6\", \"showlakes\": true, \"showland\": true, \"subunitcolor\": \"white\"}, \"hoverlabel\": {\"align\": \"left\"}, \"hovermode\": \"closest\", \"mapbox\": {\"style\": \"light\"}, \"paper_bgcolor\": \"white\", \"plot_bgcolor\": \"#E5ECF6\", \"polar\": {\"angularaxis\": {\"gridcolor\": \"white\", \"linecolor\": \"white\", \"ticks\": \"\"}, \"bgcolor\": \"#E5ECF6\", \"radialaxis\": {\"gridcolor\": \"white\", \"linecolor\": \"white\", \"ticks\": \"\"}}, \"scene\": {\"xaxis\": {\"backgroundcolor\": \"#E5ECF6\", \"gridcolor\": \"white\", \"gridwidth\": 2, \"linecolor\": \"white\", \"showbackground\": true, \"ticks\": \"\", \"zerolinecolor\": \"white\"}, \"yaxis\": {\"backgroundcolor\": \"#E5ECF6\", \"gridcolor\": \"white\", \"gridwidth\": 2, \"linecolor\": \"white\", \"showbackground\": true, \"ticks\": \"\", \"zerolinecolor\": \"white\"}, \"zaxis\": {\"backgroundcolor\": \"#E5ECF6\", \"gridcolor\": \"white\", \"gridwidth\": 2, \"linecolor\": \"white\", \"showbackground\": true, \"ticks\": \"\", \"zerolinecolor\": \"white\"}}, \"shapedefaults\": {\"line\": {\"color\": \"#2a3f5f\"}}, \"ternary\": {\"aaxis\": {\"gridcolor\": \"white\", \"linecolor\": \"white\", \"ticks\": \"\"}, \"baxis\": {\"gridcolor\": \"white\", \"linecolor\": \"white\", \"ticks\": \"\"}, \"bgcolor\": \"#E5ECF6\", \"caxis\": {\"gridcolor\": \"white\", \"linecolor\": \"white\", \"ticks\": \"\"}}, \"title\": {\"x\": 0.05}, \"xaxis\": {\"automargin\": true, \"gridcolor\": \"white\", \"linecolor\": \"white\", \"ticks\": \"\", \"title\": {\"standoff\": 15}, \"zerolinecolor\": \"white\", \"zerolinewidth\": 2}, \"yaxis\": {\"automargin\": true, \"gridcolor\": \"white\", \"linecolor\": \"white\", \"ticks\": \"\", \"title\": {\"standoff\": 15}, \"zerolinecolor\": \"white\", \"zerolinewidth\": 2}}}, \"title\": {\"text\": \"countries in the world base (% of population fully vaccinated)\", \"x\": 0.5}},\n",
              "                        {\"responsive\": true}\n",
              "                    ).then(function(){\n",
              "                            \n",
              "var gd = document.getElementById('692e2f40-5bdd-45f5-b99f-a85c35460f86');\n",
              "var x = new MutationObserver(function (mutations, observer) {{\n",
              "        var display = window.getComputedStyle(gd).display;\n",
              "        if (!display || display === 'none') {{\n",
              "            console.log([gd, 'removed!']);\n",
              "            Plotly.purge(gd);\n",
              "            observer.disconnect();\n",
              "        }}\n",
              "}});\n",
              "\n",
              "// Listen for the removal of the full notebook cells\n",
              "var notebookContainer = gd.closest('#notebook-container');\n",
              "if (notebookContainer) {{\n",
              "    x.observe(notebookContainer, {childList: true});\n",
              "}}\n",
              "\n",
              "// Listen for the clearing of the current output cell\n",
              "var outputEl = gd.closest('.output');\n",
              "if (outputEl) {{\n",
              "    x.observe(outputEl, {childList: true});\n",
              "}}\n",
              "\n",
              "                        })\n",
              "                };\n",
              "                \n",
              "            </script>\n",
              "        </div>\n",
              "</body>\n",
              "</html>"
            ]
          },
          "metadata": {
            "tags": []
          }
        }
      ]
    }
  ]
}